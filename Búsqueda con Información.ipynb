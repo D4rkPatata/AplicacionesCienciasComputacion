{
  "cells": [
    {
      "cell_type": "markdown",
      "metadata": {
        "collapsed": true,
        "id": "nPxHoN8jvLG7"
      },
      "source": [
        "# APLICACIONES EN CIENCIAS DE COMPUTACION"
      ]
    },
    {
      "cell_type": "markdown",
      "metadata": {
        "id": "47wQf3cevLG9"
      },
      "source": [
        "## Laboratorio 3:  Búsqueda con Informacion (A*, Heuristicas)\n",
        "\n",
        "Este laboratorio se centra en los métodos de búsqueda informada A*, y compararlos con la búsqueda ciega.\n",
        "\n",
        "Se presenta un caso en el cual los algoritmos deberán buscar caminos en un laboritmo, encontrando la solución más óptima.\n"
      ]
    },
    {
      "cell_type": "markdown",
      "metadata": {
        "id": "7qObmZNjvLG_"
      },
      "source": [
        "### Clase <b>Maze</b>\n",
        "La clase Maze es representada por una matriz (grid) de espacios, los cuales pueden estar libres o bloqueados. Cada celda del grid puede tener uno de los siguientes carateres:\n",
        "\n",
        "    '#': Indica una celda con obstaculo  (impasable)\n",
        "    '~': Indica una celda con agua (pasable, con costo 5)\n",
        "    ' ': Celda vacia (passable con costo 1)\n",
        "    'S': Indicate la celda de inicio\n",
        "    'E': Indicates la celda de salida"
      ]
    },
    {
      "cell_type": "code",
      "execution_count": 1,
      "metadata": {
        "id": "Ub8n_V-JvLHA"
      },
      "outputs": [],
      "source": [
        "class Maze:\n",
        "\n",
        "    def __init__(self, grid):\n",
        "        \"\"\" Construye el maze a partir del grid pasado\n",
        "            grid: debe ser una matriz (lista de listas), ejemplo [['#','S',' '],['#',' ','E']]  \"\"\"\n",
        "        self.grid = grid\n",
        "        self.numRows = len(grid)\n",
        "        self.numCols = len(grid[0])\n",
        "        for i in range(self.numRows):\n",
        "            for j in range(self.numCols):\n",
        "                if len(grid[i]) != self.numCols:\n",
        "                    raise \"Grid no es Rectangular\"\n",
        "                if grid[i][j] == 'S':\n",
        "                    self.startCell = (i,j)\n",
        "                if grid[i][j] == 'E':\n",
        "                    self.exitCell= (i,j)\n",
        "        if self.exitCell == None:\n",
        "            raise \"No hay celda de Inicio\"\n",
        "        if self.startCell == None:\n",
        "            raise \"No hay celda de salida\"\n",
        "\n",
        "    def isPassable(self, row, col):\n",
        "        \"\"\" Retorna true si la celda (row,col) es pasable  (' ' o '~') \"\"\"\n",
        "        return self.isWater(row, col) or self.isClear(row, col)\n",
        "\n",
        "    def isWater(self, row, col):\n",
        "        \"\"\" Retorna true si la celda (row,col) tiene agua  ('~') \"\"\"\n",
        "        return self.grid[row][col] == '~'\n",
        "\n",
        "    def isClear(self, row, col):\n",
        "        \"\"\" Retorna true si la celda (row,col) esta vacia  (' ') \"\"\"\n",
        "        return self.grid[row][col] == ' '\n",
        "\n",
        "    def isBlocked(self, row,col):\n",
        "        \"\"\" Retorna true si la celda (row,col) tiene obstaculo ('#') \"\"\"\n",
        "        return self.grid[row][col] == '#'\n",
        "\n",
        "    def getNumRows(self):\n",
        "        \"\"\" Retorna el numero de filas en el maze \"\"\"\n",
        "        return self.numRows\n",
        "\n",
        "    def getNumCols(self):\n",
        "        \"\"\" Retorna el numero de columnas en el maze \"\"\"\n",
        "        return self.numCols\n",
        "\n",
        "    def getStartCell(self):\n",
        "        \"\"\" Retorna la posicion (row,col) de la celda de inicio \"\"\"\n",
        "        return self.startCell\n",
        "\n",
        "    def getExitCell(self):\n",
        "        \"\"\" Retorna la posicion (row,col) de la celda de salida \"\"\"\n",
        "        return self.exitCell\n",
        "\n",
        "    def __getAsciiString(self):\n",
        "        \"\"\" Retorna el string de vizualizacion del maze \"\"\"\n",
        "        lines = []\n",
        "        headerLine = ' ' + ('-' * (self.numCols)) + ' '\n",
        "        lines.append(headerLine)\n",
        "        for row in self.grid:\n",
        "            rowLine = '|' + ''.join(row) + '|'\n",
        "            lines.append(rowLine)\n",
        "        lines.append(headerLine)\n",
        "        return '\\n'.join(lines)\n",
        "\n",
        "    def __str__(self):\n",
        "        return self.__getAsciiString()"
      ]
    },
    {
      "cell_type": "markdown",
      "metadata": {
        "id": "3bA21OWgvLHI"
      },
      "source": [
        "### Funcion para cargar una laberinto de archivo de disco"
      ]
    },
    {
      "cell_type": "code",
      "execution_count": 2,
      "metadata": {
        "id": "Pop4Xu-hvLHK"
      },
      "outputs": [],
      "source": [
        "def readMazeFromFile(file):\n",
        "    \"\"\" Lee un archivo que contiene un laberinto y retorna una instancia de Maze con dicho laberinto\"\"\"\n",
        "    fin = open(file)\n",
        "    lines = fin.read().splitlines()\n",
        "    grid = []\n",
        "    for line in lines:\n",
        "        grid.append(list(line))\n",
        "    return Maze(grid)"
      ]
    },
    {
      "cell_type": "markdown",
      "metadata": {
        "id": "0Nz4_dYlvLHP"
      },
      "source": [
        "### Clase <b>SearchProblem</b>\n",
        "\n",
        "Esta es una clase abstracta para definir problemas de búsqueda. Se debe hacer subclases que implementen los metodos de las acciones, resultados, test de objetivo y el costo de camino. Entonces se puede instanciar las subclases y resolverlos con varias funciones de búsqueda."
      ]
    },
    {
      "cell_type": "code",
      "execution_count": 3,
      "metadata": {
        "id": "Fw0npFiHvLHR"
      },
      "outputs": [],
      "source": [
        "class SearchProblem(object):\n",
        "    def __init__(self, initial, goal=None):\n",
        "        \"\"\"Este constructor especifica el estado inicial y posiblemente el estado(s) objetivo(s),\n",
        "        La subclase puede añadir mas argumentos.\"\"\"\n",
        "        self.initial = initial\n",
        "        self.goal = goal\n",
        "\n",
        "    def actions(self, state):\n",
        "        \"\"\"Retorna las acciones que pueden ser ejecutadas en el estado dado.\n",
        "        El resultado es tipicamente una lista.\"\"\"\n",
        "        raise NotImplementedError\n",
        "\n",
        "    def result(self, state, action):\n",
        "        \"\"\"Retorna el estado que resulta de ejecutar la accion dada en el estado state.\n",
        "        La accion debe ser alguna de self.actions(state).\"\"\"\n",
        "        raise NotImplementedError\n",
        "\n",
        "    def goal_test(self, state):\n",
        "        \"\"\"Retorna True si el estado pasado satisface el objetivo.\"\"\"\n",
        "        raise NotImplementedError\n",
        "\n",
        "    def path_cost(self, c, state1, action, state2):\n",
        "        \"\"\"Retorna el costo del camino de state2 viniendo de state1 con\n",
        "        la accion action, asumiendo un costo c para llegar hasta state1.\n",
        "        El metodo por defecto cuesta 1 para cada paso en el camino.\"\"\"\n",
        "        return c + 1"
      ]
    },
    {
      "cell_type": "markdown",
      "metadata": {
        "id": "DrHAohNuvLHY"
      },
      "source": [
        "###  <b> Clase MazeSearchProblem </b>  \n",
        "Esta es una subclase de SearchProblem que implementa concretamente el problema de búsqueda en laberinto. El constructor recibe el laberinto en un objeto maze. Cada estado es codificado como una tupla (row,col) representando la posicion de una celda del grid. El estado inicial es la celda de inicio y el único estado objetivo es la celda de salida.\n",
        "Se necesita completar Actions (acciones legales para un estado dado) y result (que hacen las acciones).\n",
        "\n",
        "La clase MazeSearchProblem necesita ser completada (metodos actions y result). Deberá implementarse 2 heurísticas para A* (euclidean_dist:distancia en linea recta, y manhatan_dist:distancia Manhatan)."
      ]
    },
    {
      "cell_type": "code",
      "execution_count": 19,
      "metadata": {
        "id": "dA4WetRKvLHa"
      },
      "outputs": [],
      "source": [
        "class MazeSearchProblem(SearchProblem):\n",
        "    def __init__(self, maze):\n",
        "        \"\"\"El constructor recibe el maze\"\"\"\n",
        "        self.maze = maze\n",
        "        self.initial = maze.getStartCell()\n",
        "        self.goal = maze.getExitCell()\n",
        "        self.numNodesExpanded = 0\n",
        "        self.expandedNodeSet = {}\n",
        "\n",
        "    def __isValidState(self,state):\n",
        "        \"\"\" Retorna true si el estado dado corresponde a una celda no bloqueada valida \"\"\"\n",
        "        row,col = state\n",
        "        if row < 0 or row >= self.maze.getNumRows():\n",
        "            return False\n",
        "        if col < 0 or col >= self.maze.getNumCols():\n",
        "            return False\n",
        "        return not self.maze.isBlocked(row,col)\n",
        "\n",
        "    def actions(self, state):\n",
        "        \"\"\"Retorna las acciones legales desde la celda actual \"\"\"\n",
        "        row,col = state\n",
        "        acciones = []\n",
        "        if self.__isValidState((row-1, col)):\n",
        "            acciones.append('N')\n",
        "        ############################################################\n",
        "        ##COMPLETAR\n",
        "        if self.__isValidState((row+1, col)):\n",
        "            acciones.append('S')\n",
        "        if self.__isValidState((row, col+1)):\n",
        "            acciones.append('E')\n",
        "        if self.__isValidState((row, col-1)):\n",
        "            acciones.append('W')\n",
        "\n",
        "        ############################################################\n",
        "        return acciones\n",
        "\n",
        "    def result(self, state, action):\n",
        "        \"\"\"Retorna el estado que resulta de ejecutar la accion dada desde la celda actual.\n",
        "        La accion debe ser alguna de self.actions(state)\"\"\"\n",
        "        row,col = state\n",
        "        newState = ()\n",
        "        if action == 'N':\n",
        "            newState = (row-1, col)\n",
        "        ############################################################\n",
        "        ##COMPLETAR\n",
        "        if action == 'S':\n",
        "            newState = (row+1, col)\n",
        "        if action == 'E':\n",
        "            newState = (row, col+1)\n",
        "        if action == 'W':\n",
        "            newState = (row, col-1)\n",
        "        ############################################################\n",
        "        return newState\n",
        "\n",
        "    def goal_test(self, state):\n",
        "        \"\"\"Retorna True si state es self.goal\"\"\"\n",
        "        return (self.goal == state)\n",
        "\n",
        "    def path_cost(self, c, state1, action, state2):\n",
        "        \"\"\"Retorna el costo del camino de state2 viniendo de state1 con la accion action\n",
        "        El costo del camino para llegar a state1 es c. El costo de la accion sale de self.maze \"\"\"\n",
        "        row, col = state2\n",
        "        if self.maze.isClear(row, col):\n",
        "            actionCost = 1\n",
        "        elif self.maze.isWater(row, col):\n",
        "            actionCost = 5\n",
        "        elif state2 == self.maze.getStartCell() or state2 == self.maze.getExitCell():\n",
        "            actionCost = 1\n",
        "        else:\n",
        "            raise \"El costo de una celda bloqueada no esta definido\"\n",
        "        return c + actionCost"
      ]
    },
    {
      "cell_type": "markdown",
      "metadata": {
        "id": "p5Ufx-IfvLHe"
      },
      "source": [
        "### Clase <b>Node</b>\n",
        "\n",
        "Estructura de datos para almacenar la informacion de un nodo en un <b>arbol de búsqueda</b>. Contiene información del nodo padre y el estado que representa el nodo. Tambien incluye la accion que nos llevo al presente nodo y el costo total del camino desde el nodo raiz hasta este nodo."
      ]
    },
    {
      "cell_type": "code",
      "execution_count": 5,
      "metadata": {
        "id": "emheGaFtvLHj"
      },
      "outputs": [],
      "source": [
        "class Node:\n",
        "    def __init__(self, state, parent=None, action=None, path_cost=0):\n",
        "        \"Crea un nodo de arbol de búsqueda, derivado del nodo parent y accion action\"\n",
        "        self.state = state\n",
        "        self.parent = parent\n",
        "        self.action = action\n",
        "        self.path_cost = path_cost\n",
        "        self.depth = 0\n",
        "        if parent:\n",
        "            self.depth = parent.depth + 1\n",
        "\n",
        "    def expand(self, problem):\n",
        "        \"Devuelve los nodos alcanzables en un paso a partir de este nodo.\"\n",
        "        return [self.child_node(problem, action)\n",
        "                for action in problem.actions(self.state)]\n",
        "\n",
        "    def child_node(self, problem, action):\n",
        "        next = problem.result(self.state, action)\n",
        "        return Node(next, self, action,\n",
        "                    problem.path_cost(self.path_cost, self.state, action, next))\n",
        "\n",
        "    def solution(self):\n",
        "        \"Retorna la secuencia de acciones para ir de la raiz a este nodo.\"\n",
        "        return [node.action for node in self.path()[1:]]\n",
        "\n",
        "    def path(self):\n",
        "        \"Retorna una lista de nodos formando un camino de la raiz a este nodo.\"\n",
        "        node, path_back = self, []\n",
        "        while node:\n",
        "            path_back.append(node)\n",
        "            node = node.parent\n",
        "        return list(reversed(path_back))\n",
        "\n",
        "    def __lt__(self, node):\n",
        "        return self.state < node.state\n",
        "\n",
        "    def __eq__(self, other):\n",
        "        \"Este metodo se ejecuta cuando se compara nodos. Devuelve True cuando los estados son iguales\"\n",
        "        return isinstance(other, Node) and self.state == other.state\n",
        "\n",
        "    def __repr__(self):\n",
        "        return \"<Node {}>\".format(self.state)\n",
        "\n",
        "    def __hash__(self):\n",
        "        return hash(self.state)"
      ]
    },
    {
      "cell_type": "markdown",
      "metadata": {
        "id": "hF1d3gW7vLHo"
      },
      "source": [
        "### <b> Frontera tipo cola FIFO (first-in first out) para BFS</b>"
      ]
    },
    {
      "cell_type": "code",
      "execution_count": 6,
      "metadata": {
        "id": "Nwi-Zpz5vLHq"
      },
      "outputs": [],
      "source": [
        "from collections import deque\n",
        "\n",
        "class FIFOQueue(deque):\n",
        "    \"\"\"Una cola First-In-First-Out\"\"\"\n",
        "    def pop(self):\n",
        "        return self.popleft()"
      ]
    },
    {
      "cell_type": "markdown",
      "metadata": {
        "id": "-pyUMWbCvLHv"
      },
      "source": [
        "### <b> Frontera tipo cola de prioridad ordenada por una funcion de costo (para best_first_graph_search y A*)</b>"
      ]
    },
    {
      "cell_type": "code",
      "execution_count": 7,
      "metadata": {
        "id": "17gFJl0evLHx"
      },
      "outputs": [],
      "source": [
        "import heapq\n",
        "class FrontierPQ:\n",
        "    \"Una Frontera ordenada por una funcion de costo (Priority Queue)\"\n",
        "\n",
        "    def __init__(self, initial, costfn=lambda node: node.path_cost):\n",
        "        \"Inicializa la Frontera con un nodo inicial y una funcion de costo especificada (por defecto es el costo de camino).\"\n",
        "        self.heap   = []\n",
        "        self.states = {}\n",
        "        self.costfn = costfn\n",
        "        self.add(initial)\n",
        "\n",
        "    def add(self, node):\n",
        "        \"Agrega un nodo a la frontera.\"\n",
        "        cost = self.costfn(node)\n",
        "        heapq.heappush(self.heap, (cost, node))\n",
        "        self.states[node.state] = node\n",
        "\n",
        "    def pop(self):\n",
        "        \"Remueve y retorna el nodo con minimo costo.\"\n",
        "        (cost, node) = heapq.heappop(self.heap)\n",
        "        self.states.pop(node.state, None) # remove state\n",
        "        return node\n",
        "\n",
        "    def replace(self, node):\n",
        "        \"node reemplaza al nodo de la Fontera que tiene el mismo estado que node.\"\n",
        "        if node.state not in self:\n",
        "            raise ValueError('{} no tiene nada que reemplazar'.format(node.state))\n",
        "        for (i, (cost, old_node)) in enumerate(self.heap):\n",
        "            if old_node.state == node.state:\n",
        "                self.heap[i] = (self.costfn(node), node)\n",
        "                heapq._siftdown(self.heap, 0, i)\n",
        "                return\n",
        "\n",
        "    def __contains__(self, state): return state in self.states\n",
        "\n",
        "    def __len__(self): return len(self.heap)"
      ]
    },
    {
      "cell_type": "markdown",
      "metadata": {
        "id": "xo4zUGeMvLH6"
      },
      "source": [
        "### <b>Algoritmo general de búsqueda con memoria de nodos expandidos (Graph Search)</b>\n",
        "\n",
        "Algoritmo de general de búsqueda ciega con memoria de estados visitados. El argumento frontier debe ser una cola vacia. Si la frontera es tipo FIFO hace búsqueda en amplitud (BFS), si la frontera es una pila hará búsqueda en profundidad (DFS)"
      ]
    },
    {
      "cell_type": "code",
      "execution_count": 8,
      "metadata": {
        "id": "r_ZJ5oU2vLH8"
      },
      "outputs": [],
      "source": [
        "def graph_search(problem, frontier):\n",
        "    frontier.append(Node(problem.initial))\n",
        "    explored = set()     # memoria de estados visitados\n",
        "    visited_nodes = []   # almacena nodos visitados durante la búsqueda\n",
        "    while frontier:\n",
        "        node = frontier.pop()\n",
        "        visited_nodes.append(node)\n",
        "        if problem.goal_test(node.state):\n",
        "            return node, visited_nodes\n",
        "        explored.add(node.state)\n",
        "\n",
        "        frontier.extend(child for child in node.expand(problem)\n",
        "                        if child.state not in explored and\n",
        "                        child not in frontier)\n",
        "    return None"
      ]
    },
    {
      "cell_type": "markdown",
      "metadata": {
        "id": "uwTpAl7cvLIA"
      },
      "source": [
        "### <b> Algoritmo Best-First-Graph-Search </b>\n",
        "Algoritmo general de búsqueda con información. La frontera es una cola de prioridad ordenada por la funcion de evaluacion f"
      ]
    },
    {
      "cell_type": "code",
      "execution_count": 9,
      "metadata": {
        "id": "qIOy01OevLIC"
      },
      "outputs": [],
      "source": [
        "def best_first_graph_search(problem, f):\n",
        "    \"\"\"Busca el objetivo expandiendo el nodo de la frontera con el menor valor de la funcion f. Memoriza estados visitados\n",
        "    Antes de llamar a este algoritmo hay que especificar La funcion f(node). Si f es node.depth tenemos Búsqueda en Amplitud;\n",
        "    si f es node.path_cost tenemos Búsqueda  de Costo Uniforme. Si f es una heurística tenemos Búsqueda Voraz;\n",
        "    Si f es node.path_cost + heuristica(node) tenemos A* \"\"\"\n",
        "\n",
        "    frontier = FrontierPQ( Node(problem.initial), f )  # frontera tipo cola de prioridad ordenada por f\n",
        "    explored = set()     # memoria de estados visitados\n",
        "    visited_nodes = []   # almacena nodos visitados durante la búsqueda\n",
        "    while frontier:\n",
        "        node = frontier.pop()\n",
        "        visited_nodes.append(node)\n",
        "        if problem.goal_test(node.state):\n",
        "            return node, visited_nodes\n",
        "        explored.add(node.state)\n",
        "        for action in problem.actions(node.state):\n",
        "            child = node.child_node(problem, action)\n",
        "            if child.state not in explored and child.state not in frontier:\n",
        "                frontier.add(child)\n",
        "            elif child.state in frontier:\n",
        "                incumbent = frontier.states[child.state]\n",
        "                if f(child) < f(incumbent):\n",
        "                    frontier.replace(child)"
      ]
    },
    {
      "cell_type": "markdown",
      "metadata": {
        "id": "3g1HnqBMvLIH"
      },
      "source": [
        "### <b> Algoritmo A* </b>\n",
        "A* es un caso especial de best_first_graph_search con f = path_cost + heuristic"
      ]
    },
    {
      "cell_type": "code",
      "execution_count": 10,
      "metadata": {
        "id": "kiRs4XWEvLII"
      },
      "outputs": [],
      "source": [
        "def astar_search(problem, heuristic):\n",
        "    f = lambda node: node.path_cost + heuristic(node, problem)\n",
        "    return best_first_graph_search(problem, f)"
      ]
    },
    {
      "cell_type": "markdown",
      "metadata": {
        "id": "GujOGiezvLIL"
      },
      "source": [
        "### <b> Heurísticas para A* </b>\n",
        "Se debe implementar las heurísticas abajo para A*"
      ]
    },
    {
      "cell_type": "code",
      "execution_count": 11,
      "metadata": {
        "id": "_JwznWHVvLIM"
      },
      "outputs": [],
      "source": [
        "import math\n",
        "def euclidean_dist(node, problem):\n",
        "    \"Distancia en linea recta desde la celda de node hasta la celda Objetivo (problem.goal)\"\n",
        "    delta_x = node.state[0] - problem.goal[0]  # distancia desde node al objetivo en el eje x\n",
        "    delta_y = node.state[1] - problem.goal[1]  # distancia desde node al objetivo en el eje y\n",
        "    return math.sqrt( math.pow(delta_x, 2) + math.pow(delta_y, 2) )\n",
        "\n",
        "def manhatan_dist(node, problem):\n",
        "    \"Distancia Manhatan desde la celda de node hasta la celda Objetivo (problem.goal)\"\n",
        "    delta_x = node.state[0] - problem.goal[0]\n",
        "    delta_y = node.state[1] - problem.goal[1]\n",
        "    \"Distancia Manhatan. La suma de las distancias a lo largo de cualquiera de sus dimensiones coordenadas.\"\n",
        "    return abs(delta_x) + abs(delta_y)\n",
        "\n",
        "def chebyshev_dist(node, problem):\n",
        "    \"Distancia Chebyshev desde la celda de node hasta la celda Objetivo (problem.goal)\"\n",
        "    delta_x = node.state[0] - problem.goal[0]\n",
        "    delta_y = node.state[1] - problem.goal[1]\n",
        "    \"Distancia Chebyshev. La mayor de las distancias a lo largo de cualquiera de sus dimensiones coordenadas.\"\n",
        "    return  max(abs(delta_x),abs(delta_y))\n",
        "\n",
        "def nullheuristic(node, problem):   # heurística nula (A* se convierte en búsqueda de costo uniforme)\n",
        "    return 0"
      ]
    },
    {
      "cell_type": "markdown",
      "metadata": {
        "id": "4RZ8Ow3pvLIQ"
      },
      "source": [
        "### <b> Funcion para mostrar los resultados </b>"
      ]
    },
    {
      "cell_type": "code",
      "execution_count": 12,
      "metadata": {
        "id": "k6UolmbyvLIR"
      },
      "outputs": [],
      "source": [
        "def displayResults(maze, visitedNodes, solutionNodes):\n",
        "    \"\"\" Muestra los resultados de búsqueda en el maze.   \"\"\"\n",
        "    grid_copy = []\n",
        "    for row in maze.grid:\n",
        "        grid_copy.append([x for x in row])\n",
        "    for node in visitedNodes:\n",
        "        row,col = node.state\n",
        "        ch = maze.grid[row][col]\n",
        "        if ch != 'S' and ch != 'E': grid_copy[row][col] = 'o'\n",
        "    for node in solutionNodes:\n",
        "        row,col = node.state\n",
        "        ch = maze.grid[row][col]\n",
        "        if ch != 'S' and ch != 'E': grid_copy[row][col] = 'x'\n",
        "    maze_copy = Maze(grid_copy)\n",
        "    print (maze_copy)\n",
        "    print (\"x - celdas en la solucion\")\n",
        "    print (\"o - celdas visitadas durante la búsqueda\")\n",
        "    print (\"-------------------------------\")"
      ]
    },
    {
      "cell_type": "markdown",
      "metadata": {
        "id": "fbaQJaE3vLIW"
      },
      "source": [
        "## <b> Experimentación con los algoritmos de Búsqueda</b>\n"
      ]
    },
    {
      "cell_type": "code",
      "execution_count": 21,
      "metadata": {
        "id": "rg7421SJvLIX",
        "colab": {
          "base_uri": "https://localhost:8080/"
        },
        "outputId": "4913c8d1-4020-40ad-a79a-52b1b7fa1f6a"
      },
      "outputs": [
        {
          "output_type": "stream",
          "name": "stdout",
          "text": [
            " ------------------- \n",
            "|~~~~~~~~~~~~~~~~~~~|\n",
            "|~~~~~~~~~~~~~~~~~~~|\n",
            "|~~~~~          ~~~~|\n",
            "|~~~~            ~~~|\n",
            "|########   ~~~~~~~~|\n",
            "|             ######|\n",
            "|      S      #~~~~~|\n",
            "|###### # #####~~~~~|\n",
            "|     # #      ~~~~~|\n",
            "| # # ###### ####~~~|\n",
            "| #          #~~~~~~|\n",
            "|     ### ####~~~~~~|\n",
            "|                  E|\n",
            " ------------------- \n"
          ]
        }
      ],
      "source": [
        "\"\"\" Carga un laberinto de archivo en disco e instancia el problema de búsqueda.   \"\"\"\n",
        "maze = readMazeFromFile('maze.txt')\n",
        "p = MazeSearchProblem(maze)\n",
        "print(maze)"
      ]
    },
    {
      "cell_type": "markdown",
      "metadata": {
        "id": "4E_RT6flvLIc"
      },
      "source": [
        "### Búsqueda en amplitud (BFS)"
      ]
    },
    {
      "cell_type": "code",
      "execution_count": 22,
      "metadata": {
        "id": "Odh7AyThvLIe",
        "scrolled": true,
        "colab": {
          "base_uri": "https://localhost:8080/"
        },
        "outputId": "4d96c7b3-249d-468e-e57d-f44602254b1a"
      },
      "outputs": [
        {
          "output_type": "stream",
          "name": "stdout",
          "text": [
            "Solucion BFS: ['E', 'E', 'S', 'S', 'E', 'E', 'E', 'E', 'E', 'E', 'E', 'E', 'S', 'S', 'S', 'S', 'E', 'E']. Nodos visitados=180. Costo Solucion = 42\n",
            " ------------------- \n",
            "|ooooooooooooooooooo|\n",
            "|ooooooooooooooooooo|\n",
            "|ooooooooooooooooooo|\n",
            "|ooooooooooooooooooo|\n",
            "|########ooooooooooo|\n",
            "|ooooooooooooo######|\n",
            "|ooooooSxxoooo#ooooo|\n",
            "|######o#x#####ooooo|\n",
            "|    o#o#xxxxxxxxxoo|\n",
            "| # #o######o####xoo|\n",
            "| #oooooooooo#oooxoo|\n",
            "|   oo###o####~ooxoo|\n",
            "|    ooooooooo  oxxE|\n",
            " ------------------- \n",
            "x - celdas en la solucion\n",
            "o - celdas visitadas durante la búsqueda\n",
            "-------------------------------\n"
          ]
        }
      ],
      "source": [
        "nsol, visited_nodes = graph_search(p, FIFOQueue())\n",
        "print('Solucion BFS: {}. Nodos visitados={}. Costo Solucion = {}'.format(nsol.solution(), len(visited_nodes),nsol.path_cost))\n",
        "displayResults(maze, visited_nodes, nsol.path())"
      ]
    },
    {
      "cell_type": "markdown",
      "metadata": {
        "id": "OuesgZLHvLIj"
      },
      "source": [
        "### Búsqueda en profundidad (DFS)"
      ]
    },
    {
      "cell_type": "code",
      "execution_count": 23,
      "metadata": {
        "id": "kXNHW4JpvLIk",
        "colab": {
          "base_uri": "https://localhost:8080/"
        },
        "outputId": "9fbcb340-911f-4def-f5cf-627510194e3e"
      },
      "outputs": [
        {
          "output_type": "stream",
          "name": "stdout",
          "text": [
            "Solucion DFS: ['E', 'E', 'S', 'S', 'E', 'E', 'E', 'E', 'E', 'E', 'E', 'E', 'E', 'E', 'S', 'S', 'W', 'W', 'W', 'W', 'W', 'S', 'S', 'E', 'E', 'E', 'E', 'E']. \n",
            "Nodos visitados=174. Costo Solucion = 80\n",
            " ------------------- \n",
            "|ooooooooooooooooooo|\n",
            "|ooooooooooooooooooo|\n",
            "|ooooooooooooooooooo|\n",
            "|ooooooooooooooooooo|\n",
            "|########ooooooooooo|\n",
            "|oooooo   oooo######|\n",
            "|ooooooSxxoooo#~~~~~|\n",
            "|###### #x#####~~~~~|\n",
            "|ooooo# #xxxxxxxxxxx|\n",
            "|o#o#o###### ####~~x|\n",
            "|o#oooooooooo#xxxxxx|\n",
            "|ooooo###o####x~~~~~|\n",
            "|oooooooooooooxxxxxE|\n",
            " ------------------- \n",
            "x - celdas en la solucion\n",
            "o - celdas visitadas durante la búsqueda\n",
            "-------------------------------\n"
          ]
        }
      ],
      "source": [
        "nsol, visited_nodes = graph_search(p, [])\n",
        "print('Solucion DFS: {}. \\nNodos visitados={}. Costo Solucion = {}'.format(nsol.solution(), len(visited_nodes),nsol.path_cost))\n",
        "displayResults(maze, visited_nodes, nsol.path())"
      ]
    },
    {
      "cell_type": "markdown",
      "metadata": {
        "id": "xsMDqLScvLIr"
      },
      "source": [
        "### Búsqueda A* con heurística nula (UCS)"
      ]
    },
    {
      "cell_type": "code",
      "execution_count": 24,
      "metadata": {
        "id": "f_v4DqOmvLIs",
        "colab": {
          "base_uri": "https://localhost:8080/"
        },
        "outputId": "8b3d061c-78ba-4bdd-b750-451801da258b"
      },
      "outputs": [
        {
          "output_type": "stream",
          "name": "stdout",
          "text": [
            "Solucion A* y heuristica nula (UCS): ['E', 'E', 'S', 'S', 'E', 'E', 'E', 'S', 'S', 'W', 'W', 'W', 'S', 'S', 'E', 'E', 'E', 'E', 'E', 'E', 'E', 'E', 'E', 'E']. \n",
            "Nodos visitados=152. Costo Solucion = 24\n",
            " ------------------- \n",
            "|~~~~ooooooooooo~~~~|\n",
            "|~~~ooooooooooooo~~~|\n",
            "|~~ooooooooooooooo~~|\n",
            "|~ooooooooooooooooo~|\n",
            "|########ooooooooo~~|\n",
            "|ooooooooooooo######|\n",
            "|ooooooSxxoooo#o~~~~|\n",
            "|######o#x#####oo~~~|\n",
            "|ooooo#o#xxxxooooo~~|\n",
            "|o#o#o######x####~~~|\n",
            "|o#ooooooxxxx#~~~~~~|\n",
            "|ooooo###x####o~~~~~|\n",
            "|ooooooooxxxxxxxxxxE|\n",
            " ------------------- \n",
            "x - celdas en la solucion\n",
            "o - celdas visitadas durante la búsqueda\n",
            "-------------------------------\n"
          ]
        }
      ],
      "source": [
        "nsol, visited_nodes = astar_search(p, nullheuristic)\n",
        "print('Solucion A* y heuristica nula (UCS): {}. \\nNodos visitados={}. Costo Solucion = {}'.format(nsol.solution(), len(visited_nodes),nsol.path_cost))\n",
        "displayResults(maze, visited_nodes, nsol.path())"
      ]
    },
    {
      "cell_type": "markdown",
      "metadata": {
        "id": "mwd5wA2zvLIw"
      },
      "source": [
        "### Búsqueda A* con heurística euclidean_dist"
      ]
    },
    {
      "cell_type": "code",
      "execution_count": 25,
      "metadata": {
        "id": "DISm5vn-vLIx",
        "colab": {
          "base_uri": "https://localhost:8080/"
        },
        "outputId": "f6397ee2-5e7e-4e92-b68b-53aa19289ac3"
      },
      "outputs": [
        {
          "output_type": "stream",
          "name": "stdout",
          "text": [
            "Solucion A* y heuristica euclidean_dist: ['E', 'E', 'S', 'S', 'E', 'E', 'E', 'S', 'S', 'W', 'W', 'W', 'S', 'S', 'E', 'E', 'E', 'E', 'E', 'E', 'E', 'E', 'E', 'E']. \n",
            "Nodos visitados=76. Costo Solucion = 24\n",
            " ------------------- \n",
            "|~~~~~~~~~~~~~~~~~~~|\n",
            "|~~~~~~~~~~~~~~~~~~~|\n",
            "|~~~~~ ooooooooo~~~~|\n",
            "|~~~~ ooooooooooo~~~|\n",
            "|########ooooo~~~~~~|\n",
            "|  ooooooooooo######|\n",
            "| oooooSxxoooo#~~~~~|\n",
            "|######o#x#####~~~~~|\n",
            "|     #o#xxxxoooo~~~|\n",
            "| # # ######x####~~~|\n",
            "| #      xxxx#~~~~~~|\n",
            "|     ###x####~~~~~~|\n",
            "|        xxxxxxxxxxE|\n",
            " ------------------- \n",
            "x - celdas en la solucion\n",
            "o - celdas visitadas durante la búsqueda\n",
            "-------------------------------\n"
          ]
        }
      ],
      "source": [
        "nsol, visited_nodes = astar_search(p, euclidean_dist)\n",
        "print('Solucion A* y heuristica euclidean_dist: {}. \\nNodos visitados={}. Costo Solucion = {}'.format(nsol.solution(), len(visited_nodes),nsol.path_cost))\n",
        "displayResults(maze, visited_nodes, nsol.path())"
      ]
    },
    {
      "cell_type": "markdown",
      "metadata": {
        "id": "FNj75JVSvLI0"
      },
      "source": [
        "### Búsqueda A* con heurística manhatan_dist"
      ]
    },
    {
      "cell_type": "code",
      "execution_count": 26,
      "metadata": {
        "id": "wOubIleHvLI3",
        "colab": {
          "base_uri": "https://localhost:8080/"
        },
        "outputId": "283a7e49-3f4f-48b7-d448-b3eda0aa6fa9"
      },
      "outputs": [
        {
          "output_type": "stream",
          "name": "stdout",
          "text": [
            "Solucion A* y heuristica manhatan_dist: ['E', 'E', 'S', 'S', 'E', 'E', 'E', 'S', 'S', 'W', 'W', 'W', 'S', 'S', 'E', 'E', 'E', 'E', 'E', 'E', 'E', 'E', 'E', 'E']. \n",
            "Nodos visitados=57. Costo Solucion = 24\n",
            " ------------------- \n",
            "|~~~~~~~~~~~~~~~~~~~|\n",
            "|~~~~~~~~~~~~~~~~~~~|\n",
            "|~~~~~          ~~~~|\n",
            "|~~~~    oooooooo~~~|\n",
            "|########ooo~~~~~~~~|\n",
            "|    ooooooooo######|\n",
            "|   oooSxxoooo#~~~~~|\n",
            "|######o#x#####~~~~~|\n",
            "|     #o#xxxxooo~~~~|\n",
            "| # # ######x####~~~|\n",
            "| #      xxxx#~~~~~~|\n",
            "|     ###x####~~~~~~|\n",
            "|        xxxxxxxxxxE|\n",
            " ------------------- \n",
            "x - celdas en la solucion\n",
            "o - celdas visitadas durante la búsqueda\n",
            "-------------------------------\n"
          ]
        }
      ],
      "source": [
        "nsol, visited_nodes = astar_search(p, manhatan_dist)\n",
        "print('Solucion A* y heuristica manhatan_dist: {}. \\nNodos visitados={}. Costo Solucion = {}'.format(nsol.solution(), len(visited_nodes),nsol.path_cost))\n",
        "displayResults(maze, visited_nodes, nsol.path())"
      ]
    },
    {
      "cell_type": "markdown",
      "source": [
        "### Búsqueda A* con heurística chebyshev_dist"
      ],
      "metadata": {
        "id": "T4aA-JqPZ89Y"
      }
    },
    {
      "cell_type": "code",
      "source": [
        "nsol, visited_nodes = astar_search(p, chebyshev_dist)\n",
        "print('Solucion A* y heuristica manhatan_dist: {}. \\nNodos visitados={}. Costo Solucion = {}'.format(nsol.solution(), len(visited_nodes),nsol.path_cost))\n",
        "displayResults(maze, visited_nodes, nsol.path())"
      ],
      "metadata": {
        "id": "Ft9Lu10_Z7Cf",
        "colab": {
          "base_uri": "https://localhost:8080/"
        },
        "outputId": "9753b33e-e121-46ad-f64c-5abea173d024"
      },
      "execution_count": 27,
      "outputs": [
        {
          "output_type": "stream",
          "name": "stdout",
          "text": [
            "Solucion A* y heuristica manhatan_dist: ['E', 'E', 'S', 'S', 'E', 'E', 'E', 'S', 'S', 'W', 'W', 'W', 'S', 'S', 'E', 'E', 'E', 'E', 'E', 'E', 'E', 'E', 'E', 'E']. \n",
            "Nodos visitados=88. Costo Solucion = 24\n",
            " ------------------- \n",
            "|~~~~~~~~~~~~~~~~~~~|\n",
            "|~~~~~~~oooo~~~~~~~~|\n",
            "|~~~~~oooooooooo~~~~|\n",
            "|~~~~oooooooooooo~~~|\n",
            "|########ooooooo~~~~|\n",
            "| oooooooooooo######|\n",
            "|ooooooSxxoooo#~~~~~|\n",
            "|######o#x#####o~~~~|\n",
            "|     #o#xxxxoooo~~~|\n",
            "| # # ######x####~~~|\n",
            "| #     oxxxx#~~~~~~|\n",
            "|     ###x####~~~~~~|\n",
            "|        xxxxxxxxxxE|\n",
            " ------------------- \n",
            "x - celdas en la solucion\n",
            "o - celdas visitadas durante la búsqueda\n",
            "-------------------------------\n"
          ]
        }
      ]
    },
    {
      "cell_type": "markdown",
      "source": [
        "#Preguntas"
      ],
      "metadata": {
        "id": "Rz7BpCMkN--E"
      }
    },
    {
      "cell_type": "markdown",
      "source": [
        "1) Complete el código necesario. <b>(4 pts)</b>"
      ],
      "metadata": {
        "id": "XXJAUOwnJe-D"
      }
    },
    {
      "cell_type": "markdown",
      "source": [
        "2) En el anterior laboratorio, BFS garantizaba soluciones óptimas. ¿En cuanto a los resultados obtenidos, los algoritmos BFS o DFS encuentran soluciones optimas? ¿Por qué? <b>(3 pts)</b>"
      ],
      "metadata": {
        "id": "HmMCfiqcJkly"
      }
    },
    {
      "cell_type": "markdown",
      "source": [
        "Solo 'bfs' encuentra soluciones óptimas, ya que en busca por amplitud encontrando la solución en el nivel más bajo pero con la desventaja de pasar por demasiados nodos y ocupar mucho espacio. En el caso de 'dfs' no encuentra una solución óptima ya que lo que hace es buscar por profundidad encontrando muchas veces una solución larga, habiendo muchos casos donde exista una solución más corta y óptima."
      ],
      "metadata": {
        "id": "yC3X4PMohZlr"
      }
    },
    {
      "cell_type": "markdown",
      "source": [
        "3) ¿En cuanto a los resultados obtenidos, las soluciones obtenidas por A* serán siempre óptimas? ¿Por qué? <b>(3 pts)</b>"
      ],
      "metadata": {
        "id": "2s8DFJHMJ1mi"
      }
    },
    {
      "cell_type": "markdown",
      "source": [
        "Solamente se podrá obtener soluciones óptimas si se usa una heurística admisible y consistente, junto con su costo de moivimiento, ya que usando esta información se creará nodos que estén más proximos al objetivo y con el costo mínimo."
      ],
      "metadata": {
        "id": "M0Xmn2tVJ5F9"
      }
    },
    {
      "cell_type": "markdown",
      "source": [
        "4) ¿Puedes pensar en situaciones del mundo real en las que este algoritmo A* modificado con penalización según el tipo de camino podría ser útil? Plantea un ejemplo. <b>(3 pts)</b>"
      ],
      "metadata": {
        "id": "DTnVZEw5KxPL"
      }
    },
    {
      "cell_type": "markdown",
      "source": [
        "Exise muhcos ejemplos en la vida real, puede ser simplemente con un robotde entrega de comida, donde no debe pasar por agua, encuentre el camino más óptimo sin tocar esta, o puede ser con el simple hecho de gasto de combustible y reducir el costo de este al máximo. También en la planificación de viaje de los gps, para evitar el trafico y reducir el tiempo de espera para llegar de un sitio a otro"
      ],
      "metadata": {
        "id": "D_1kqE4SK58b"
      }
    },
    {
      "cell_type": "markdown",
      "source": [
        "5) Explique el concepto de dominancia entre heurísticas <b>(2 pts)</b>"
      ],
      "metadata": {
        "id": "i2Pch6hrcC-K"
      }
    },
    {
      "cell_type": "markdown",
      "source": [
        "Una heurística es más dominante cuadno es mayor a otra, esto provoca que la heruistica dominante expanda resultados más proximos al objetivo a comparación de otras heurísticas. En el caso de manhattan, se suma los valores absolutos de esta y por eso es la heurística dominante."
      ],
      "metadata": {
        "id": "koBvSk7DcUPI"
      }
    },
    {
      "cell_type": "markdown",
      "source": [
        "6) ¿Cual es la heuristica más dominante? ¿Por qué? <b>(2 pts)</b>"
      ],
      "metadata": {
        "id": "P-WPxl-Bifab"
      }
    },
    {
      "cell_type": "markdown",
      "source": [
        "La heurística dominante es la que tiene datos mayores a otras. La heuristica dominante sería la Manhattan ya que esta suma los valores absolutos de las coordenadas a comparacion de euclidiana donde hay raiz cuadrada y Chebyshev donde solo se sacala mayor coordenada de distancia.\n",
        "\n",
        "Manhattan = abs(distCordX) + abs(distCordY)\n",
        "\n",
        "Euclidiana =  sqrt(distCordX^2 + distCordY^2 )\n",
        "Chebyshev = max(distCordX, distCordY)\n",
        "\n",
        "Manhattan > euclidiana >= chebysev"
      ],
      "metadata": {
        "id": "svyKzGdwifap"
      }
    },
    {
      "cell_type": "markdown",
      "source": [
        "7) Basado en la teoría y en los ejemplos vistos, ¿cuál heuristica tiene un menor costo temporal y de memoria? ¿Por qué? <b>(3 pts)</b>"
      ],
      "metadata": {
        "id": "oR8JHYf0LEQD"
      }
    },
    {
      "cell_type": "markdown",
      "source": [
        "Viendo los ejemplos y usando la teoría de b* y heurística dominante podemos notar que la heurística que tiene menor costo temporal y de memoria es la Manhattan ya que visita menos nodos que otras heurísticas (57), Y obtiene una solución óptima."
      ],
      "metadata": {
        "id": "6j0aPffSLEaL"
      }
    },
    {
      "cell_type": "markdown",
      "source": [],
      "metadata": {
        "id": "3vT-2RZioE0j"
      }
    }
  ],
  "metadata": {
    "colab": {
      "provenance": []
    },
    "kernelspec": {
      "display_name": "Python 3",
      "language": "python",
      "name": "python3"
    },
    "language_info": {
      "codemirror_mode": {
        "name": "ipython",
        "version": 3
      },
      "file_extension": ".py",
      "mimetype": "text/x-python",
      "name": "python",
      "nbconvert_exporter": "python",
      "pygments_lexer": "ipython3",
      "version": "3.8.3"
    }
  },
  "nbformat": 4,
  "nbformat_minor": 0
}