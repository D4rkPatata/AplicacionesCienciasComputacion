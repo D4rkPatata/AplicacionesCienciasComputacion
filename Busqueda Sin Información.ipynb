{
  "cells": [
    {
      "cell_type": "markdown",
      "metadata": {
        "id": "XM-JhCnoREhb"
      },
      "source": [
        "# APLICACIONES DE CIENCIAS DE LA COMPUTACIÓN (INF265)\n",
        "## (Segundo Semestre 2023)"
      ]
    },
    {
      "cell_type": "markdown",
      "metadata": {
        "id": "u3bdP_RCREhc"
      },
      "source": [
        "## Laboratorio 2: Búsqueda sin Informacion\n",
        "\n",
        "Indicaciones generales:\n",
        "\n",
        "- Duración: **110 minutos (1 hora 50 minutos)**.\n",
        "- **Las respuestas deben contar con un buen fundamento teórico**, se realizarán descuentos en el puntaje a respuestas que no contesten a lo solicitado.\n",
        "- Cualquier indicio de plagio resultará en la anulación de la prueba.\n",
        "- Debe presentar sus respuestas en base a los resultados de ejecución en los casos que se solicite. <br>**No se calificarán aquellas respuestas que no presenten un resultado de ejecución o que no concuerden con este.**\n",
        "- Subir el cuadernillo con el nombre **Lab2_código.ipynb**, donde código es su código PUCP de 8 dígitos.  \n",
        "- Se tomará en cuenta en la calificación el uso de comentarios relevantes.\n",
        "\n",
        "Objetivos:\n",
        "- Especificar problemas como búsquedas en espacios de estados.\n",
        "- Comparar los diferentes métodos de búsqueda sin información.\n",
        "- Plantear alternativas de modelos de búsqueda ante las diferentes dificultades que se puedan generar.\n",
        "- Relacionar los conceptos aprendidos sobre problemas de búsqueda sin información con escenarios de la vida cotidiana.\n"
      ]
    },
    {
      "cell_type": "markdown",
      "metadata": {
        "id": "5t1ZILQp5U_m"
      },
      "source": [
        "## Caso: Ordenamiento de Sellos\n",
        "Imaginemos que nos encontramos en una escuela en un país lejano, donde las notas de los alumnos se califican desde A (excelente), B (bueno), C (regular), D (falta mejorar) y F (desaprobado). Además, tenemos los caracteres especiales \"O\" para indicar que la evaluación del alumno fue anulada y \"Z\" para indicar que el alumno no asistió.\n",
        "\n",
        "Recientemente, la escuela adquirió maquinaria nueva para automatizar el sellado de las calificaciones en las hojas de los alumnos. Existen dos máquinas para cada aula: la primera máquina revisa las notas y determina la calificación final, y luego pasa el valor de la posición de la letra como un número entero a la segunda máquina. La segunda máquina, mucho más simple, se encarga únicamente de sellar las hojas según la calificación.\n",
        "\n",
        "La segunda máquina cuenta con un compartimiento con espacios para 8 sellos, en un compartimiento de 2x4 en donde hay 7 sellos y un componente de lectura, asumir que el módulo de lectura ocupa aproximadamente el espacio de un sello.\n",
        "\n",
        "\n",
        "Para el compartimiento de la máquina 2, el módulo de entrada de datos estará en posición 𝟘 y las letras deberían estar ordenadas en **orden alfabético** en el resto de posiciones, es decir:\n",
        "\n",
        "\n",
        "*   La posición 𝟙 está reservada para la letra 𝔸\n",
        "*   La posición 𝟚 está reservada para la letra 𝔹\n",
        "*   La posición 𝟛 está reservada para la letra ℂ\n",
        "*   La posición 𝟜 está reservada para la letra 𝔻\n",
        "*   La posición 𝟝 está reservada para la letra 𝔽\n",
        "*   La posición 𝟞 está reservada para la letra 𝕆\n",
        "*   La posición 𝟟 está reservada para la letra ℤ\n",
        "\n",
        "\n",
        "\n",
        "Sin embargo, hay un problema. Debido a la falta de comunicación y entendimiento del personal de la escuela, los sellos fueron colocados en orden arbitrario en las aulas. Esto significa que la segunda máquina puede cometer errores y sellar una F en lugar de una A si el sello con la letra F fue colocado en la posición destinada para la A. Esto sucede porque si bien la segunda máquina recibe la posición del sello A como entrada, en el sello de la A está ubicado físicamente el sello de la F.\n",
        "\n",
        "**Nuestro estado objetivo es tener los sellos ordenados en las posiciones correctas.**\n",
        "\n",
        "Se ha modelado el compartimiento mediante una cadena de caracteres de longitud 8 cuyos 2 primeros elementos corresponden a la primera fila, los 2 siguientes a la segunda fila y así hasta la cuarta fila.  El carácter \"+\" simboliza el espacio donde la segunda máquina tiene un componente de lectura, el cual puede ser extraído para dejar un espacio libre y permitir el movimiento de los sellos.<br>\n",
        "\n",
        "Algunas partes del código se encuentran incompletas con la palabra \"COMPLETAR\", por lo que deberá analizar el algoritmo y completar las partes faltantes. Las celdas con el texto **\"No modificar\"** no deben ser alteradas. Al final del cuadernillo se encuentra el cuestionario a responder en el presente laboratorio.\n",
        "Se brindan las clases utilitarias que permitirán resolver el problema de reordenamiento.\n",
        "\n",
        "Finalmente para esta sección se muestra un estado inicial (representado por OBD+FZCA) y el estado objetivo del compartimiento (representado por +ABCEDFOZ) :<br>"
      ]
    },
    {
      "cell_type": "markdown",
      "source": [
        "![image.png](data:image/png;base64,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)"
      ],
      "metadata": {
        "id": "pGL_ajCHObsL"
      }
    },
    {
      "cell_type": "markdown",
      "metadata": {
        "id": "X4CB5f8WuGix"
      },
      "source": [
        "## Clase Thing\n",
        "\n",
        "Esta clase genérica representa cualquier objeto físico que puede aparecer en un ambiente.<br>\n",
        "**( No modificar )**  "
      ]
    },
    {
      "cell_type": "code",
      "execution_count": 1,
      "metadata": {
        "id": "kx1p7JwPuGiy"
      },
      "outputs": [],
      "source": [
        "class Thing(object):\n",
        "    def is_alive(self):\n",
        "        \"\"\"Cosas 'vivas'deben retornar true.\"\"\"\n",
        "        return hasattr(self, 'alive') and self.alive\n",
        "\n",
        "    def show_state(self):\n",
        "        \"\"\"Muestra el estado interno del agente. Subclases deben sobreescribir esto.\"\"\"\n",
        "        print(\"I don't know how to show_state.\")"
      ]
    },
    {
      "cell_type": "markdown",
      "metadata": {
        "id": "WTwslH6NuGi0"
      },
      "source": [
        "## Clase Agent\n",
        "\n",
        "Un agente es una subclase de Thing con un slot obligatorio: <b>.program</b>, el cual almacena la función que implementa el <b>programa del agente</b>. Esta función debe tomar como argumento la <b>percepción</b> del agente y debe retornar una <b>acción</b>. La definición de Percepción y Acción depende del ambiente de trabajo (environment) donde el agente existe. El agente también puede tener el slot <b>.performance</b>, que guarda el desempeño del agente en su ambiente (desempeño visto desde el agente).<br>\n",
        "**( No modificar )**"
      ]
    },
    {
      "cell_type": "code",
      "execution_count": 2,
      "metadata": {
        "id": "h6ScvsjSuGi1"
      },
      "outputs": [],
      "source": [
        "import collections\n",
        "import random\n",
        "\n",
        "class Agent(Thing):\n",
        "    def __init__(self, program=None):\n",
        "        self.alive = True\n",
        "        self.performance = 0\n",
        "        assert isinstance(program, collections.Callable)\n",
        "        self.program = program"
      ]
    },
    {
      "cell_type": "markdown",
      "metadata": {
        "id": "aP5TA3cFuGi3"
      },
      "source": [
        "## Clase Environment\n",
        "\n",
        "Esta clase abstracta representa un entorno de tareas. Clases de entornos reales heredan de esta. En un entorno típicamente se necesitará implementar 2 cosas:\n",
        "<b>percept</b>, que define la percepción que el agente ve; y\n",
        "<b>execute_action</b>, que define los efectos de ejecutar una acción.\n",
        "El entorno mantiene una lista de .things y .agents (el cual es un subconjunto de .things). Cada elemento de .things tiene un slot .location.<br>\n",
        "**( No modificar )**"
      ]
    },
    {
      "cell_type": "code",
      "execution_count": 3,
      "metadata": {
        "id": "bqM1KISJuGi3"
      },
      "outputs": [],
      "source": [
        "class Environment(object):\n",
        "\n",
        "    def __init__(self):\n",
        "        self.things = []\n",
        "        self.agents = []\n",
        "\n",
        "    def thing_classes(self):\n",
        "        return []  # List of classes that can go into environment\n",
        "\n",
        "    def percept(self, agent):\n",
        "        \"\"\"Retorna la percepción que el agente 'agent' ve en este punto.\"\"\"\n",
        "        raise NotImplementedError\n",
        "\n",
        "    def execute_action(self, agent, action):\n",
        "        \"\"\"El agente 'agent' ejecuta una acción 'action' en el entorno.\"\"\"\n",
        "        raise NotImplementedError\n",
        "\n",
        "    def default_location(self, thing):\n",
        "        \"\"\"Localización por defecto para colocar una nueva cosa sin localización especificada.\"\"\"\n",
        "        return None\n",
        "\n",
        "    def is_done(self):\n",
        "        \"\"\"Retorna True si no hay ningun agente vivo\"\"\"\n",
        "        return not any(agent.is_alive() for agent in self.agents)\n",
        "\n",
        "    def add_thing(self, thing, location=None):\n",
        "        \"\"\"Añade una cosa thing al entorno en la localización location.\n",
        "           Si thing es un programa de agente, crea un nuevo agente con ese programa.\"\"\"\n",
        "        if not isinstance(thing, Thing):\n",
        "            thing = Agent(thing)\n",
        "        assert thing not in self.things, \"No añade la misma cosa dos veces\"\n",
        "        thing.location = location if location is not None else self.default_location(thing)\n",
        "        self.things.append(thing)\n",
        "        if isinstance(thing, Agent):\n",
        "            thing.performance = 0\n",
        "            self.agents.append(thing)\n",
        "\n",
        "    def step(self):\n",
        "        \"\"\"Ejecuta un paso del entorno (llama a los programas de los agentes, obtiene sus acciones y las ejecuta). \"\"\"\n",
        "        if not self.is_done():\n",
        "            actions = []\n",
        "            for agent in self.agents:\n",
        "                if agent.alive:\n",
        "                    actions.append(agent.program(self.percept(agent)))\n",
        "                else:\n",
        "                    actions.append(\"\")\n",
        "            for (agent, action) in zip(self.agents, actions):\n",
        "                self.execute_action(agent, action)\n",
        "\n",
        "    def run(self, steps=1000):\n",
        "        \"\"\"Ejecuta steps pasos en el entorno.\"\"\"\n",
        "        for step in range(steps):\n",
        "            if self.is_done():\n",
        "                return\n",
        "            self.step()"
      ]
    },
    {
      "cell_type": "markdown",
      "metadata": {
        "id": "puMQcfsyuGi5"
      },
      "source": [
        "## Clase CompartmentEnvironment\n",
        "\n",
        "En esta clase se implementa el entorno del compartimiento. El caracter '+' representa la posición del mecanismo de entrada.<br>\n",
        "**( No modificar )**"
      ]
    },
    {
      "cell_type": "code",
      "execution_count": 4,
      "metadata": {
        "id": "pAu9StQjuGi7"
      },
      "outputs": [],
      "source": [
        "class CompartmentEnvironment(Environment):\n",
        "\n",
        "    def __init__(self, initial_state):\n",
        "        super().__init__()\n",
        "        self.status = initial_state\n",
        "\n",
        "    def thing_classes(self):\n",
        "        return [CompartmentReflexAgent]\n",
        "\n",
        "    def percept(self, agent):\n",
        "        \"\"\"Retorna el estado del ambiente (las piezas que estan en cada posicion)\"\"\"\n",
        "        return self.status\n",
        "\n",
        "    def execute_action(self, agent, action):\n",
        "        \"\"\"Implementa el MAPA De TRANSICION: Cambia la posición de los sellos de acuerdo a la acción solicitada\n",
        "        del espacio libre.\n",
        "        Cada acción válida debe provocar una disminución de desempeño en 1 unidad \"\"\"\n",
        "\n",
        "        ################################# COMPLETAR ###############################################\n",
        "\n",
        "        # Debe completar las validaciones para cada acción válida\n",
        "        # Recuerde que la implementación del compartimento es mediante una tupla de 8 elementos\n",
        "        # en la que cada 2 elementos representa una fila.\n",
        "\n",
        "        ###########################################################################################\n",
        "\n",
        "        state = list(self.status)\n",
        "        iblank = state.index('+')    # Obtiene el indice del casillero en blanco (representado con '+')\n",
        "\n",
        "        if action == 'Right':\n",
        "            if ((iblank + 1) % 2 != 0):\n",
        "                state[iblank+1], state[iblank] = state[iblank], state[iblank+1]\n",
        "                agent.performance -= 1\n",
        "\n",
        "        elif action == 'Left':\n",
        "            if (iblank % 2 != 0):\n",
        "                state[iblank-1], state[iblank] = state[iblank], state[iblank-1]\n",
        "                agent.performance -= 1\n",
        "\n",
        "        elif action == 'Up':\n",
        "            if (iblank > 1):\n",
        "                state[iblank], state[iblank-2] = state[iblank-2], state[iblank]\n",
        "                agent.performance -= 1\n",
        "\n",
        "        elif action == 'Down':\n",
        "            if (iblank < 6):\n",
        "                state[iblank], state[iblank+2] = state[iblank+2], state[iblank]\n",
        "                agent.performance -= 1\n",
        "\n",
        "        self.status = ''.join(state)\n",
        "\n",
        "\n",
        "    def print_state(self):\n",
        "\n",
        "        for i in range(4):\n",
        "            print(\" \"*20 + \"|  \" + self.status[2*i] + \"   \" + self.status[2*i+1] + \"  |\\n\"  )\n",
        "\n"
      ]
    },
    {
      "cell_type": "markdown",
      "metadata": {
        "id": "6OJ65sRMuGi-"
      },
      "source": [
        "## Clase SearchProblem\n",
        "\n",
        "Esta es una clase abstracta para definir problemas de búsqueda. Se debe hacer subclases que implementen los métodos de las acciones, resultados, test de objetivo y el costo de camino. Entonces se puede instanciar las subclases y resolverlos con varias funciones de búsqueda.<br>\n",
        "**( No modificar )**"
      ]
    },
    {
      "cell_type": "code",
      "execution_count": 5,
      "metadata": {
        "id": "WrP2vpPnuGi-"
      },
      "outputs": [],
      "source": [
        "class SearchProblem(object):\n",
        "    def __init__(self, initial, goal=None):\n",
        "        \"\"\"Este constructor especifica el estado inicial y posiblemente el estado(s) objetivo(s),\n",
        "        La subclase puede añadir mas argumentos.\"\"\"\n",
        "        self.initial = initial\n",
        "        self.goal = goal\n",
        "\n",
        "    def actions(self, state):\n",
        "        \"\"\"Retorna las acciones que pueden ser ejecutadas en el estado dado.\n",
        "        El resultado es tipicamente una lista.\"\"\"\n",
        "        raise NotImplementedError\n",
        "\n",
        "    def result(self, state, action):\n",
        "        \"\"\"Retorna el estado que resulta de ejecutar la accion dada en el estado state.\n",
        "        La accion debe ser alguna de self.actions(state).\"\"\"\n",
        "        raise NotImplementedError\n",
        "\n",
        "    def goal_test(self, state):\n",
        "        \"\"\"Retorna True si el estado pasado satisface el objetivo.\"\"\"\n",
        "        raise NotImplementedError\n",
        "\n",
        "    def path_cost(self, c, state1, action, state2):\n",
        "        \"\"\"Retorna el costo del camino de state2 viniendo de state1 con\n",
        "        la accion action, asumiendo un costo c para llegar hasta state1.\n",
        "        El metodo por defecto cuesta 1 para cada paso en el camino.\"\"\"\n",
        "        return c + 1\n",
        "\n",
        "    def value(self, state):\n",
        "        \"\"\"En problemas de optimizacion, cada estado tiene un valor. Algoritmos\n",
        "        como Hill-climbing intentan maximizar este valor.\"\"\"\n",
        "        raise NotImplementedError"
      ]
    },
    {
      "cell_type": "markdown",
      "metadata": {
        "id": "BxTf61enuGjA"
      },
      "source": [
        "## Clase CompartmentSearchProblem  \n",
        "Esta es una subclase de SearchProblem donde se definirá concretamente el problema de búsqueda para el ambiente del compartimento. Se necesitan completar algunas validaciones para devolver los posibles movimientos."
      ]
    },
    {
      "cell_type": "code",
      "execution_count": 39,
      "metadata": {
        "id": "Ia136jo1uGjA"
      },
      "outputs": [],
      "source": [
        "class CompartmentSearchProblem(SearchProblem):\n",
        "\n",
        "    def __init__(self, initial, goal):\n",
        "        \"\"\"El constructor recibe  el estado inicial y el estado objetivo\"\"\"\n",
        "        self.initial = initial\n",
        "        self.goal = goal\n",
        "\n",
        "\n",
        "    def actions(self, state):\n",
        "        \"\"\"Retorna las acciones ejecutables desde el estado state.\n",
        "           Recuerde que se debe retornar una LISTA de acciones, es decir, puede haber más de una acción válida\n",
        "           desde un estado dado.\"\"\"\n",
        "\n",
        "        acciones = []\n",
        "        iblank = state.index('+')   # Obtiene el indice del casillero en blanco (representado con '+') del estado\n",
        "\n",
        "        ################################# COMPLETAR ###############################################\n",
        "\n",
        "        # Debe obtener las acciones válidas para el estado dado.\n",
        "        # No olvide las condiciones que se deben cumplir para que una acción sea válida.\n",
        "\n",
        "        ###########################################################################################\n",
        "\n",
        "        if ((iblank + 1) % 2 != 0):\n",
        "            acciones.append(\"Right\")\n",
        "        if (iblank % 2 != 0):\n",
        "            acciones.append(\"Left\")\n",
        "        if (iblank > 1):\n",
        "            acciones.append(\"Up\")\n",
        "        if (iblank < 6):\n",
        "            acciones.append(\"Down\")\n",
        "\n",
        "        return acciones\n",
        "\n",
        "\n",
        "    def result(self, state, action):\n",
        "        \"\"\"Retorna el estado que resulta de ejecutar la accion action desde state.\n",
        "        La accion debe ser alguna de self.actions(state)\n",
        "        Por ejemplo, para  state='+ABCDEFOZ' y action='Right' debe retornar newState = 'A+BCDEFOZ' \"\"\"\n",
        "\n",
        "        ################################# COMPLETAR ###############################################\n",
        "\n",
        "        # Debe completar las validaciones para cada acción válida\n",
        "        # Pista: Las validaciones son las mismas que implementó en el ambiente del compartimento.\n",
        "\n",
        "        ###########################################################################################\n",
        "\n",
        "        iblank = state.index('+')    # obtiene el indice del casillero en blanco (representado con +) del estado\n",
        "        newState = list(state)       # copia state en una lista newState\n",
        "\n",
        "        if action == 'Right':\n",
        "            if ((iblank + 1) % 2 != 0):\n",
        "                newState[iblank+1], newState[iblank] = newState[iblank], newState[iblank+1]\n",
        "\n",
        "        elif action == 'Left':\n",
        "            if (iblank % 2 != 0):\n",
        "                newState[iblank-1], newState[iblank] = newState[iblank], newState[iblank-1]\n",
        "\n",
        "        elif action == 'Up':\n",
        "            if (iblank > 1):\n",
        "                newState[iblank-2], newState[iblank] = newState[iblank], newState[iblank-2]\n",
        "\n",
        "        elif action == 'Down':\n",
        "            if (iblank < 6):\n",
        "                newState[iblank], newState[iblank+2] = newState[iblank+2], newState[iblank]\n",
        "\n",
        "        return ''.join(newState)\n",
        "\n",
        "\n",
        "    def goal_test(self, state):\n",
        "        \"\"\"Retorna True si state es self.goal\"\"\"\n",
        "        return (self.goal == state)\n",
        "\n",
        "\n",
        "    def path_cost(self, c, state1, action, state2):\n",
        "        \"\"\"Retorna el costo del camino de state2 viniendo de state1 con la acción action\n",
        "        El costo del camino para llegar a state1 es c. El costo de la acción es = 1\"\"\"\n",
        "        return c + 1;"
      ]
    },
    {
      "cell_type": "markdown",
      "metadata": {
        "id": "NQhb9rJpuGjD"
      },
      "source": [
        "## Clase Node\n",
        "\n",
        "Estructura de datos para almacenar la información de un nodo en un <b>árbol de búsqueda</b>. Contiene información del nodo padre y el estado que representa el nodo. Tambien incluye la acción que nos llevó al presente nodo y el costo total del camino desde el nodo raíz hasta este nodo.<br>\n",
        "**( No modificar )**"
      ]
    },
    {
      "cell_type": "code",
      "execution_count": 7,
      "metadata": {
        "id": "HqZ7P_geuGjD"
      },
      "outputs": [],
      "source": [
        "class Node:\n",
        "\n",
        "    def __init__(self, state, parent=None, action=None, path_cost=0):\n",
        "        \"Crea un nodo de árbol de búsqueda, derivado del nodo parent y acción action\"\n",
        "        self.state = state\n",
        "        self.parent = parent\n",
        "        self.action = action\n",
        "        self.path_cost = path_cost\n",
        "        self.depth = 0\n",
        "        if parent:\n",
        "            self.depth = parent.depth + 1\n",
        "\n",
        "\n",
        "    def expand(self, problem):\n",
        "        \"Devuelve los nodos alcanzables en un paso a partir de este nodo.\"\n",
        "        return [self.child_node(problem, action)\n",
        "                for action in problem.actions(self.state)]\n",
        "\n",
        "\n",
        "    def child_node(self, problem, action):\n",
        "        next = problem.result(self.state, action)\n",
        "        return Node(next, self, action,\n",
        "                    problem.path_cost(self.path_cost, self.state, action, next))\n",
        "\n",
        "\n",
        "    def solution(self):\n",
        "        \"Retorna la secuencia de acciones para ir de la raiz a este nodo.\"\n",
        "        return [node.action for node in self.path()[1:]]\n",
        "\n",
        "\n",
        "    def path(self):\n",
        "        \"Retorna una lista de nodos formando un camino de la raiz a este nodo.\"\n",
        "        node, path_back = self, []\n",
        "        while node:\n",
        "            path_back.append(node)\n",
        "            node = node.parent\n",
        "        return list(reversed(path_back))\n",
        "\n",
        "\n",
        "    def __lt__(self, node):\n",
        "        return self.state < node.state\n",
        "\n",
        "\n",
        "    def __eq__(self, other):\n",
        "        \"Este metodo se ejecuta cuando se compara nodos. Devuelve True cuando los estados son iguales\"\n",
        "        return isinstance(other, Node) and self.state == other.state\n",
        "\n",
        "\n",
        "    def __repr__(self):\n",
        "        return \"<Node {}>\".format(self.state)\n",
        "\n",
        "\n",
        "    def __hash__(self):\n",
        "        return hash(self.state)"
      ]
    },
    {
      "cell_type": "markdown",
      "metadata": {
        "id": "q3Vy7ZDkuGjG"
      },
      "source": [
        "## <b> Define una cola tipo FIFO First-In-First-Out (para BFS)</b>\n",
        "**( No modificar )**"
      ]
    },
    {
      "cell_type": "code",
      "execution_count": 8,
      "metadata": {
        "id": "LocU3267uGjG"
      },
      "outputs": [],
      "source": [
        "from collections import deque\n",
        "\n",
        "class FIFOQueue(deque):\n",
        "    \"\"\"Una cola First-In-First-Out\"\"\"\n",
        "    def pop(self):\n",
        "        return self.popleft()"
      ]
    },
    {
      "cell_type": "markdown",
      "metadata": {
        "id": "lbDo2MyAuGjL"
      },
      "source": [
        "## Algoritmo general de búsqueda con memoria de nodos expandidos (Graph Search)\n",
        "\n",
        "Algoritmo general de búsqueda ciega con memoria de estados visitados. El argumento frontier debe ser una cola vacia. Si  frontier es tipo FIFO hace busqueda en amplitud (BFS), si la frontier es una pila hará busqueda en profundidad (DFS). Devuelve el nodo solucion y una lista de nodos visitados durante la búsqueda.<br>\n",
        "**( No modificar )**"
      ]
    },
    {
      "cell_type": "code",
      "execution_count": 9,
      "metadata": {
        "id": "1P7xZVImuGjM"
      },
      "outputs": [],
      "source": [
        "def graph_search(problem, frontier):\n",
        "    frontier.append(Node(problem.initial))\n",
        "    print(problem.initial)\n",
        "    explored = set()     # Memoria de estados visitados\n",
        "    visited_nodes = []   # Almacena nodos visitados durante la búsqueda\n",
        "    while frontier:\n",
        "        node = frontier.pop()\n",
        "        visited_nodes.append(node)\n",
        "        if problem.goal_test(node.state):\n",
        "            return node, visited_nodes\n",
        "        explored.add(node.state)\n",
        "\n",
        "        frontier.extend(child for child in node.expand(problem)\n",
        "                        if child.state not in explored and\n",
        "                        child not in frontier)\n",
        "    return None"
      ]
    },
    {
      "cell_type": "markdown",
      "metadata": {
        "id": "uRpWuCYyuGjU"
      },
      "source": [
        "## Clase que implementa el programa del agente de búsqueda en el entorno del compartimento\n",
        "**( No modificar )**"
      ]
    },
    {
      "cell_type": "code",
      "execution_count": 10,
      "metadata": {
        "id": "5fW0Gp6IuGjV"
      },
      "outputs": [],
      "source": [
        "class CompartmentSearchProgram:\n",
        "    def __init__(self, goal_state, search_method):\n",
        "        self.goal = goal_state\n",
        "        self.method = search_method\n",
        "        self.seq = []  # Lista de acciones a ejecutar, inicialmente vacía.\n",
        "\n",
        "    def __call__(self, percept):\n",
        "        state = percept\n",
        "        if state == self.goal:    # Si el ambiente se encuentra en el estado objetivo, no hace nada.\n",
        "            return 'None'\n",
        "\n",
        "        if not self.seq:          # Si la lista de acciones esta vacía.\n",
        "\n",
        "            print('- El agente buscará una solución al problema del ordenamiento de sellos:\\n  Estado Inicial  = {}\\n  Estado Objetivo = {}'.format(state,self.goal))\n",
        "\n",
        "            search_problem = CompartmentSearchProblem(state, self.goal)\n",
        "\n",
        "            if self.method == 'bfs':\n",
        "                print(search_problem)\n",
        "                goal_node, visited_nodes = graph_search(search_problem, FIFOQueue()) # Frontera es una cola FIFO\n",
        "\n",
        "            elif self.method == 'dfs':\n",
        "                goal_node, visited_nodes = graph_search(search_problem, []) # Frontera es una pila\n",
        "\n",
        "            else:\n",
        "                raise NotImplementedError\n",
        "\n",
        "            if goal_node == None: # No se encuentra solución\n",
        "                print('  No se encontró solución para el problema del ordenamiento de sellos con método {}\\n'\n",
        "                      .format(self.method) )\n",
        "                return 'None'\n",
        "\n",
        "            self.seq = goal_node.solution()\n",
        "\n",
        "            print('  Agente planeó una solución al problema del ordenamiento de sellos con {}:\\n  Secuencia de acciones = {}\\n  Nodos visitados = {}\\n  Costo Solución  = {}\\n'\n",
        "                  .format(self.method, self.seq, len(visited_nodes), goal_node.path_cost) )\n",
        "\n",
        "        action = self.seq.pop(0)\n",
        "\n",
        "        return action"
      ]
    },
    {
      "cell_type": "markdown",
      "metadata": {
        "id": "Fs6VbI5HuGjW"
      },
      "source": [
        "## Probando el entorno de parqueo vehicular y agente de búsqueda\n",
        "A continuación se brinda código referencial para probar y visualizar los resultados.<br>\n",
        "\n",
        "**Este código podrá ser reutilizado posteriormente para las pruebas donde se requiera probar algún método de búsqueda.** <br>\n",
        "\n",
        "**IMPORTANTE:** Recuerde instanciar todos los objetos necesarios para cada prueba."
      ]
    },
    {
      "cell_type": "code",
      "source": [
        "collections.Callable = collections.abc.Callable"
      ],
      "metadata": {
        "id": "u4n0cJ4cSww7"
      },
      "execution_count": 11,
      "outputs": []
    },
    {
      "cell_type": "code",
      "source": [
        "# ========================================================\n",
        "#                     Prueba para BFS\n",
        "# ========================================================\n",
        "\n",
        "\"\"\"Crea el entorno del problema del ordenamiento de sellos con el adecuado estado inicial.\"\"\"\n",
        "e = CompartmentEnvironment(\"OBD+FZCA\")\n",
        "\n",
        "\"\"\"Crea un agente de busqueda para alcanzar goalstate\"\"\"\n",
        "goalstate = \"+ABCDFOZ\"\n",
        "a = Agent( CompartmentSearchProgram (goalstate, 'bfs') )\n",
        "\n",
        "print(\"-\"*50)\n",
        "print(\"Estado inicial del ambiente del compartimento:\")\n",
        "print(\"-\"*50 + \"\\n\")\n",
        "e.print_state()\n",
        "print(\"-\"*80 + \"\\n\")\n",
        "\n",
        "\"\"\"Añade el agente creado al entorno\"\"\"\n",
        "e.add_thing(a)\n",
        "\n",
        "# Ejecuta el entorno 30 pasos\n",
        "e.run(30)\n",
        "\n",
        "print(\"-\"*80)\n",
        "print(\"Estado final del ambiente del compartimento:\")\n",
        "print(\"-\"*50 + \"\\n\")\n",
        "e.print_state()"
      ],
      "metadata": {
        "id": "BciInd6b_rBF",
        "colab": {
          "base_uri": "https://localhost:8080/"
        },
        "outputId": "1cd5a5bd-b037-4a6a-c288-110304ffca8e"
      },
      "execution_count": 40,
      "outputs": [
        {
          "output_type": "stream",
          "name": "stdout",
          "text": [
            "--------------------------------------------------\n",
            "Estado inicial del ambiente del compartimento:\n",
            "--------------------------------------------------\n",
            "\n",
            "                    |  O   B  |\n",
            "\n",
            "                    |  D   +  |\n",
            "\n",
            "                    |  F   Z  |\n",
            "\n",
            "                    |  C   A  |\n",
            "\n",
            "--------------------------------------------------------------------------------\n",
            "\n",
            "- El agente buscará una solución al problema del ordenamiento de sellos:\n",
            "  Estado Inicial  = OBD+FZCA\n",
            "  Estado Objetivo = +ABCDFOZ\n",
            "<__main__.CompartmentSearchProblem object at 0x7ddc9a428be0>\n",
            "OBD+FZCA\n",
            "  Agente planeó una solución al problema del ordenamiento de sellos con bfs:\n",
            "  Secuencia de acciones = ['Down', 'Down', 'Left', 'Up', 'Up', 'Right', 'Down', 'Left', 'Up', 'Up', 'Right', 'Down', 'Down', 'Down', 'Left', 'Up', 'Up', 'Right', 'Down', 'Down', 'Left', 'Up', 'Up', 'Up']\n",
            "  Nodos visitados = 13215\n",
            "  Costo Solución  = 24\n",
            "\n",
            "--------------------------------------------------------------------------------\n",
            "Estado final del ambiente del compartimento:\n",
            "--------------------------------------------------\n",
            "\n",
            "                    |  +   A  |\n",
            "\n",
            "                    |  B   C  |\n",
            "\n",
            "                    |  D   F  |\n",
            "\n",
            "                    |  O   Z  |\n",
            "\n"
          ]
        }
      ]
    },
    {
      "cell_type": "markdown",
      "metadata": {
        "id": "4crOuCvFREhm"
      },
      "source": [
        "## Cuestionario\n",
        "\n",
        "**1.** Completar el código faltante con las etiquetas **\"COMPLETAR\"** en las clases CompartmentEnviroment, CompartmentSearchProblem. **(4 ptos)** <br>"
      ]
    },
    {
      "cell_type": "markdown",
      "source": [
        "**Rpta:** Ya está completado en la parte de arriba, solo se tenia que  completar los movimientos segun el indice del '+'"
      ],
      "metadata": {
        "id": "DeAKoAlhWyXm"
      }
    },
    {
      "cell_type": "markdown",
      "source": [
        "**2.** Identifique en el código el programa del agente, es decir, ubique y responda donde es que está dicho método. ¿Que información le brinda el entorno al agente? ¿Cómo reacciona el agente a esta información?. Fundamente si el agente actúa racionalmente al entorno y si este comportamiento asegura que maximice su medida de desempeño. **(4 puntos)** <br>"
      ],
      "metadata": {
        "id": "-ME7uOrnMb5-"
      }
    },
    {
      "cell_type": "markdown",
      "source": [
        "**Rpta:** El uso del metodo esta en graph_search y dependiendo si usamos 'bfs' se hace por cola, osea una busqueda por amplitud. En cambio si se usa 'dfs' se utiliza una pila y se hace busqueda por profundidad.\n",
        "El entorno le brinda al agente un estado de la forma \"ABC+FDZO\", a este estado se le aplica una accion segun las condiciones y revisando si ese estado no esta visitado.\n",
        "El agente se podria decir que actua racionalmente ya que nota que estados ha visitado para no caer en bucle.\n"
      ],
      "metadata": {
        "id": "V721VosKMfrv"
      }
    },
    {
      "cell_type": "markdown",
      "source": [
        "**3.**  ¿Por qué la representacion de estado elegida para este problema (string de caracteres) se puede considerar como una representación estructurada del ambiente? Justifique  **(2 punto)**\n"
      ],
      "metadata": {
        "id": "-_FxFXpzpOnC"
      }
    },
    {
      "cell_type": "markdown",
      "source": [
        "**Rpta:** Ya que podemos notar que un estado esta correctamente representado además se puede observar todo el entorno mediante un estado, ademas es facil de entender el estado ya qeu esta representado en un simple arreglo\n"
      ],
      "metadata": {
        "id": "qyo-5Lmjbwcf"
      }
    },
    {
      "cell_type": "markdown",
      "source": [
        "**4.** Cree una función para poder ejecutar el programa de manera compacta. Y pruébela para los métodos DFS y BFS. Esta funcion puede asumir que los parámetros que se le pasan son siempre correctos, la función vacía esta aquí. Se está considerando que el estado inicial es OBD+FZCA y el estado objetivo es +ABCDFOZ **(2 punto)**:"
      ],
      "metadata": {
        "id": "iT6sYmdbof7X"
      }
    },
    {
      "cell_type": "code",
      "source": [
        "def runProgram(initialstate, goalstate, numsteps, method):\n",
        "  e = CompartmentEnvironment(initialstate)\n",
        "  a = Agent( CompartmentSearchProgram (goalstate, method) )\n",
        "  print(\"-\"*50)\n",
        "  print(\"Estado inicial del ambiente del compartimento:\")\n",
        "  print(\"-\"*50 + \"\\n\")\n",
        "  e.print_state()\n",
        "  print(\"-\"*80 + \"\\n\")\n",
        "  e.add_thing(a)\n",
        "  e.run(numsteps)\n",
        "  print(\"-\"*80)\n",
        "  print(\"Estado final del ambiente del compartimento:\")\n",
        "  print(\"-\"*50 + \"\\n\")\n",
        "  e.print_state()\n",
        "  pass #No hace nada, sirve para indicar que la función termino"
      ],
      "metadata": {
        "id": "1NRT7ExDWi7l"
      },
      "execution_count": 41,
      "outputs": []
    },
    {
      "cell_type": "code",
      "source": [
        "#Llamado a la funcion con DFS:\n",
        "runProgram(initialstate=\"OBD+FZCA\", goalstate=\"+ABCDFOZ\", numsteps=1000000, method='dfs')"
      ],
      "metadata": {
        "id": "14pm_FxsCC4T",
        "colab": {
          "base_uri": "https://localhost:8080/"
        },
        "outputId": "efb13e16-fb83-4fc8-d213-bebbfd422c54"
      },
      "execution_count": 42,
      "outputs": [
        {
          "output_type": "stream",
          "name": "stdout",
          "text": [
            "--------------------------------------------------\n",
            "Estado inicial del ambiente del compartimento:\n",
            "--------------------------------------------------\n",
            "\n",
            "                    |  O   B  |\n",
            "\n",
            "                    |  D   +  |\n",
            "\n",
            "                    |  F   Z  |\n",
            "\n",
            "                    |  C   A  |\n",
            "\n",
            "--------------------------------------------------------------------------------\n",
            "\n",
            "- El agente buscará una solución al problema del ordenamiento de sellos:\n",
            "  Estado Inicial  = OBD+FZCA\n",
            "  Estado Objetivo = +ABCDFOZ\n",
            "OBD+FZCA\n",
            "  Agente planeó una solución al problema del ordenamiento de sellos con dfs:\n",
            "  Secuencia de acciones = ['Down', 'Down', 'Left', 'Up', 'Up', 'Up', 'Right', 'Down', 'Down', 'Down', 'Left', 'Up', 'Up', 'Up', 'Right', 'Down', 'Down', 'Down', 'Left', 'Up', 'Up', 'Up', 'Right', 'Down', 'Down', 'Down', 'Left', 'Up', 'Up', 'Up', 'Right', 'Down', 'Down', 'Down', 'Left', 'Up', 'Up', 'Up', 'Right', 'Down', 'Down', 'Down', 'Left', 'Up', 'Up', 'Up', 'Right', 'Down', 'Down', 'Down', 'Left', 'Up', 'Up', 'Right', 'Down', 'Down', 'Left', 'Up', 'Up', 'Up', 'Right', 'Down', 'Down', 'Down', 'Left', 'Up', 'Up', 'Up', 'Right', 'Down', 'Down', 'Down', 'Left', 'Up', 'Up', 'Up', 'Right', 'Down', 'Down', 'Left', 'Up', 'Up', 'Right', 'Down', 'Down', 'Down', 'Left', 'Up', 'Up', 'Up', 'Right', 'Down', 'Down', 'Down', 'Left', 'Up', 'Up', 'Up', 'Right', 'Down', 'Down', 'Down', 'Left', 'Up', 'Right', 'Down', 'Left', 'Up', 'Up', 'Up', 'Right', 'Down', 'Down', 'Down', 'Left', 'Up', 'Up', 'Up', 'Right', 'Down', 'Down', 'Down', 'Left', 'Up', 'Up', 'Up', 'Right', 'Down', 'Down', 'Down', 'Left', 'Up', 'Up', 'Up', 'Right', 'Down', 'Down', 'Down', 'Left', 'Up', 'Up', 'Up', 'Right', 'Down', 'Down', 'Down', 'Left', 'Up', 'Up', 'Up', 'Right', 'Down', 'Down', 'Down', 'Left', 'Up', 'Up', 'Right', 'Down', 'Down', 'Left', 'Up', 'Up', 'Up', 'Right', 'Down', 'Down', 'Down', 'Left', 'Up', 'Up', 'Up', 'Right', 'Down', 'Down', 'Down', 'Left', 'Up', 'Up', 'Up', 'Right', 'Down', 'Down', 'Left', 'Up', 'Up', 'Right', 'Down', 'Down', 'Down', 'Left', 'Up', 'Up', 'Up', 'Right', 'Down', 'Down', 'Down', 'Left', 'Up', 'Up', 'Up', 'Right', 'Down', 'Down', 'Down', 'Left', 'Up', 'Up', 'Up', 'Right', 'Down', 'Down', 'Down', 'Left', 'Up', 'Up', 'Up', 'Right', 'Down', 'Down', 'Down', 'Left', 'Up', 'Up', 'Up', 'Right', 'Down', 'Down', 'Down', 'Left', 'Up', 'Up', 'Up', 'Right', 'Down', 'Left', 'Down', 'Down', 'Right', 'Up', 'Up', 'Up', 'Left', 'Down', 'Down', 'Down', 'Right', 'Up', 'Up', 'Up', 'Left', 'Down', 'Down', 'Down', 'Right', 'Up', 'Up', 'Up', 'Left', 'Down', 'Down', 'Right', 'Up', 'Up', 'Left', 'Down', 'Down', 'Down', 'Right', 'Up', 'Up', 'Up', 'Left', 'Down', 'Down', 'Down', 'Right', 'Up', 'Up', 'Up', 'Left', 'Down', 'Down', 'Down', 'Right', 'Up', 'Left', 'Down', 'Right', 'Up', 'Left', 'Up', 'Up', 'Right', 'Down', 'Down', 'Down', 'Left', 'Up', 'Up', 'Up', 'Right', 'Down', 'Down', 'Down', 'Left', 'Up', 'Up', 'Up', 'Right', 'Down', 'Down', 'Down', 'Left', 'Up', 'Up', 'Up', 'Right', 'Down', 'Down', 'Down', 'Left', 'Up', 'Up', 'Up', 'Right', 'Down', 'Down', 'Down', 'Left', 'Up', 'Up', 'Up', 'Right', 'Down', 'Down', 'Down', 'Left', 'Up', 'Up', 'Right', 'Down', 'Down', 'Left', 'Up', 'Up', 'Up', 'Right', 'Down', 'Down', 'Down', 'Left', 'Up', 'Up', 'Up', 'Right', 'Down', 'Down', 'Down', 'Left', 'Up', 'Up', 'Up', 'Right', 'Down', 'Left', 'Down', 'Down', 'Right', 'Up', 'Up', 'Up', 'Left', 'Down', 'Down', 'Down', 'Right', 'Up', 'Up', 'Up', 'Left', 'Down', 'Down', 'Down', 'Right', 'Up', 'Up', 'Up', 'Left', 'Down', 'Down', 'Down', 'Right', 'Up', 'Up', 'Up', 'Left', 'Down', 'Down', 'Down', 'Right', 'Up', 'Up', 'Up', 'Left', 'Down', 'Down', 'Down', 'Right', 'Up', 'Up', 'Up', 'Left', 'Down', 'Down', 'Down', 'Right', 'Up', 'Up', 'Left', 'Down', 'Down', 'Right', 'Up', 'Up', 'Up', 'Left', 'Down', 'Down', 'Down', 'Right', 'Up', 'Up', 'Up', 'Left', 'Down', 'Down', 'Down', 'Right', 'Up', 'Up', 'Up', 'Left', 'Down', 'Down', 'Right', 'Up', 'Up', 'Left', 'Down', 'Down', 'Down', 'Right', 'Up', 'Up', 'Up', 'Left', 'Down', 'Down', 'Down', 'Right', 'Up', 'Up', 'Left', 'Down', 'Right', 'Up', 'Up', 'Left', 'Down', 'Down', 'Down', 'Right', 'Up', 'Up', 'Up', 'Left', 'Down', 'Down', 'Down', 'Right', 'Up', 'Up', 'Left', 'Down', 'Down', 'Right', 'Up', 'Up', 'Up', 'Left', 'Down', 'Down', 'Down', 'Right', 'Up', 'Up', 'Up', 'Left', 'Down', 'Down', 'Down', 'Right', 'Up', 'Up', 'Up', 'Left', 'Down', 'Down', 'Down', 'Right', 'Up', 'Up', 'Up', 'Left', 'Down', 'Down', 'Down', 'Right', 'Up', 'Up', 'Up', 'Left', 'Down', 'Down', 'Down', 'Right', 'Up', 'Up', 'Up', 'Left', 'Down', 'Down', 'Down', 'Right', 'Up', 'Up', 'Left', 'Down', 'Down', 'Right', 'Up', 'Up', 'Up', 'Left', 'Down', 'Down', 'Down', 'Right', 'Up', 'Up', 'Up', 'Left', 'Down', 'Down', 'Down', 'Right', 'Up', 'Up', 'Up', 'Left', 'Down', 'Right', 'Down', 'Down', 'Left', 'Up', 'Up', 'Up', 'Right', 'Down', 'Down', 'Down', 'Left', 'Up', 'Up', 'Up', 'Right', 'Down', 'Down', 'Down', 'Left', 'Up', 'Up', 'Up', 'Right', 'Down', 'Down', 'Down', 'Left', 'Up', 'Up', 'Up', 'Right', 'Down', 'Down', 'Down', 'Left', 'Up', 'Up', 'Up', 'Right', 'Down', 'Down', 'Down', 'Left', 'Up', 'Up', 'Up', 'Right', 'Down', 'Down', 'Down', 'Left', 'Up', 'Up', 'Right', 'Down', 'Down', 'Left', 'Up', 'Up', 'Up', 'Right', 'Down', 'Down', 'Down', 'Left', 'Up', 'Up', 'Up', 'Right', 'Down', 'Down', 'Down', 'Left', 'Up', 'Up', 'Up', 'Right', 'Down', 'Down', 'Left', 'Up', 'Up', 'Right', 'Down', 'Down', 'Down', 'Left', 'Up', 'Up', 'Up', 'Right', 'Down', 'Down', 'Down', 'Left', 'Up', 'Up', 'Up', 'Right', 'Down', 'Left', 'Down', 'Down', 'Right', 'Up', 'Up', 'Up', 'Left', 'Down', 'Down', 'Down', 'Right', 'Up', 'Up', 'Up', 'Left', 'Down', 'Down', 'Down', 'Right', 'Up', 'Left', 'Down', 'Right', 'Up', 'Up', 'Up', 'Left', 'Down', 'Down', 'Down', 'Right', 'Up', 'Up', 'Up', 'Left', 'Down', 'Down', 'Down', 'Right', 'Up', 'Up', 'Up', 'Left', 'Down', 'Down', 'Down', 'Right', 'Up', 'Up', 'Up', 'Left', 'Down', 'Down', 'Down', 'Right', 'Up', 'Up', 'Up', 'Left', 'Down', 'Down', 'Down', 'Right', 'Up', 'Up', 'Up', 'Left', 'Down', 'Down', 'Down', 'Right', 'Up', 'Up', 'Left', 'Down', 'Down', 'Right', 'Up', 'Up', 'Up', 'Left', 'Down', 'Down', 'Down', 'Right', 'Up', 'Up', 'Up', 'Left', 'Down', 'Down', 'Down', 'Right', 'Up', 'Up', 'Up', 'Left', 'Down', 'Down', 'Right', 'Up', 'Up', 'Left', 'Down', 'Down', 'Down', 'Right', 'Up', 'Up', 'Up', 'Left', 'Down', 'Down', 'Down', 'Right', 'Up', 'Left', 'Down', 'Right', 'Up', 'Up', 'Up', 'Left', 'Down', 'Down', 'Down', 'Right', 'Up', 'Up', 'Up', 'Left', 'Down', 'Down', 'Right', 'Up', 'Up', 'Left', 'Down', 'Down', 'Down', 'Right', 'Up', 'Up', 'Up', 'Left', 'Down', 'Down', 'Down', 'Right', 'Up', 'Up', 'Up', 'Left', 'Down', 'Down', 'Down', 'Right', 'Up', 'Left', 'Down', 'Right', 'Up', 'Up', 'Up', 'Left', 'Down', 'Down', 'Down', 'Right', 'Up', 'Up', 'Up', 'Left', 'Down', 'Down', 'Down', 'Right', 'Up', 'Up', 'Up', 'Left', 'Down', 'Down', 'Down', 'Right', 'Up', 'Up', 'Up', 'Left', 'Down', 'Down', 'Down', 'Right', 'Up', 'Up', 'Up', 'Left', 'Down', 'Down', 'Down', 'Right', 'Up', 'Up', 'Up', 'Left', 'Down', 'Down', 'Down', 'Right', 'Up', 'Up', 'Left', 'Down', 'Down', 'Right', 'Up', 'Up', 'Up', 'Left', 'Down', 'Down', 'Down', 'Right', 'Up', 'Up', 'Up', 'Left', 'Down', 'Down', 'Down', 'Right', 'Up', 'Up', 'Up', 'Left', 'Down', 'Right', 'Down', 'Down', 'Left', 'Up', 'Up', 'Up', 'Right', 'Down', 'Down', 'Down', 'Left', 'Up', 'Up', 'Up', 'Right', 'Down', 'Down', 'Down', 'Left', 'Up', 'Up', 'Up', 'Right', 'Down', 'Down', 'Down', 'Left', 'Up', 'Up', 'Up', 'Right', 'Down', 'Down', 'Down', 'Left', 'Up', 'Up', 'Up', 'Right', 'Down', 'Down', 'Down', 'Left', 'Up', 'Up', 'Up', 'Right', 'Down', 'Down', 'Down', 'Left', 'Up', 'Up', 'Right', 'Down', 'Down', 'Left', 'Up', 'Up', 'Up', 'Right', 'Down', 'Down', 'Down', 'Left', 'Up', 'Up', 'Up', 'Right', 'Down', 'Down', 'Down', 'Left', 'Up', 'Up', 'Up', 'Right', 'Down', 'Down', 'Left', 'Up', 'Up', 'Right', 'Down', 'Down', 'Down', 'Left', 'Up', 'Up', 'Up', 'Right', 'Down', 'Down', 'Down', 'Left', 'Up', 'Up', 'Up', 'Right', 'Down', 'Left', 'Down', 'Right', 'Up', 'Left', 'Down', 'Down', 'Right', 'Up', 'Up', 'Up', 'Left', 'Down', 'Down', 'Down', 'Right', 'Up', 'Up', 'Up', 'Left', 'Down', 'Down', 'Down', 'Right', 'Up', 'Up', 'Up', 'Left', 'Down', 'Down', 'Down', 'Right', 'Up', 'Up', 'Up', 'Left', 'Down', 'Down', 'Down', 'Right', 'Up', 'Up', 'Up', 'Left', 'Down', 'Down', 'Down', 'Right', 'Up', 'Up', 'Up', 'Left', 'Down', 'Down', 'Down', 'Right', 'Up', 'Left', 'Down', 'Right', 'Up', 'Up', 'Up', 'Left', 'Down', 'Down', 'Down', 'Right', 'Up', 'Up', 'Up', 'Left', 'Down', 'Right', 'Down', 'Down', 'Left', 'Up', 'Up', 'Up', 'Right', 'Down', 'Down', 'Left', 'Up', 'Right', 'Down', 'Down', 'Left', 'Up', 'Up', 'Up', 'Right', 'Down', 'Down', 'Down', 'Left', 'Up', 'Up', 'Right', 'Down', 'Down', 'Left', 'Up', 'Up', 'Up', 'Right', 'Down', 'Down', 'Down', 'Left', 'Up', 'Up', 'Up', 'Right', 'Down', 'Down', 'Down', 'Left', 'Up', 'Up', 'Up', 'Right', 'Down', 'Left', 'Down', 'Down', 'Right', 'Up', 'Up', 'Up', 'Left', 'Down', 'Down', 'Down', 'Right', 'Up', 'Up', 'Left', 'Down', 'Down', 'Right', 'Up', 'Up', 'Up', 'Left', 'Down', 'Down', 'Down', 'Right', 'Up', 'Up', 'Left', 'Down', 'Down', 'Right', 'Up', 'Up', 'Up', 'Left', 'Down', 'Down', 'Down', 'Right', 'Up', 'Up', 'Up', 'Left', 'Down', 'Down', 'Down', 'Right', 'Up', 'Up', 'Up', 'Left', 'Down', 'Right', 'Down', 'Down', 'Left', 'Up', 'Up', 'Up', 'Right', 'Down', 'Down', 'Down', 'Left', 'Up', 'Up', 'Up', 'Right', 'Down', 'Down', 'Down', 'Left', 'Up', 'Up', 'Up', 'Right', 'Down', 'Down', 'Down', 'Left', 'Up', 'Up', 'Up', 'Right', 'Down', 'Down', 'Down', 'Left', 'Up', 'Up', 'Up', 'Right', 'Down', 'Down', 'Down', 'Left', 'Up', 'Up', 'Up', 'Right', 'Down', 'Down', 'Down', 'Left', 'Up', 'Up', 'Right', 'Down', 'Down', 'Left', 'Up', 'Up', 'Up', 'Right', 'Down', 'Down', 'Down', 'Left', 'Up', 'Up', 'Up', 'Right', 'Down', 'Down', 'Down', 'Left', 'Up', 'Up', 'Up', 'Right', 'Down', 'Down', 'Left', 'Up', 'Up', 'Right', 'Down', 'Down', 'Down', 'Left', 'Up', 'Up', 'Up', 'Right', 'Down', 'Down', 'Down', 'Left', 'Up', 'Up', 'Up', 'Right', 'Down', 'Down', 'Left', 'Up', 'Up', 'Right', 'Down', 'Down', 'Down', 'Left', 'Up', 'Up', 'Up', 'Right', 'Down', 'Down', 'Down', 'Left', 'Up', 'Up', 'Up', 'Right', 'Down', 'Down', 'Down', 'Left', 'Up', 'Right', 'Down', 'Left', 'Up', 'Up', 'Up', 'Right', 'Down', 'Down', 'Down', 'Left', 'Up', 'Up', 'Up', 'Right', 'Down', 'Down', 'Down', 'Left', 'Up', 'Up', 'Up', 'Right', 'Down', 'Down', 'Down', 'Left', 'Up', 'Up', 'Up', 'Right', 'Down', 'Down', 'Down', 'Left', 'Up', 'Up', 'Up', 'Right', 'Down', 'Down', 'Down', 'Left', 'Up', 'Up', 'Up', 'Right', 'Down', 'Down', 'Down', 'Left', 'Up', 'Up', 'Right', 'Down', 'Left', 'Up', 'Right', 'Down', 'Down', 'Left', 'Up', 'Up', 'Right', 'Down', 'Down', 'Left', 'Up', 'Up', 'Up', 'Right', 'Down', 'Down', 'Down', 'Left', 'Up', 'Up', 'Up', 'Right', 'Down', 'Down', 'Down', 'Left', 'Up', 'Up', 'Up', 'Right', 'Down', 'Left', 'Down', 'Down', 'Right', 'Up', 'Up', 'Up', 'Left', 'Down', 'Down', 'Down', 'Right', 'Up', 'Up', 'Up', 'Left', 'Down', 'Down', 'Down', 'Right', 'Up', 'Up', 'Up', 'Left', 'Down', 'Down', 'Down', 'Right', 'Up', 'Up', 'Up', 'Left', 'Down', 'Down', 'Down', 'Right', 'Up', 'Up', 'Up', 'Left', 'Down', 'Down', 'Down', 'Right', 'Up', 'Up', 'Up', 'Left', 'Down', 'Down', 'Down', 'Right', 'Up', 'Up', 'Left', 'Down', 'Down', 'Right', 'Up', 'Up', 'Up', 'Left', 'Down', 'Down', 'Down', 'Right', 'Up', 'Up', 'Up', 'Left', 'Down', 'Down', 'Right', 'Up', 'Up', 'Left', 'Down', 'Down', 'Down', 'Right', 'Up', 'Up', 'Up', 'Left', 'Down', 'Down', 'Down', 'Right', 'Up', 'Up', 'Up', 'Left', 'Down', 'Down', 'Down', 'Right', 'Up', 'Left', 'Down', 'Right', 'Up', 'Up', 'Up', 'Left', 'Down', 'Down', 'Down', 'Right', 'Up', 'Up', 'Up', 'Left', 'Down', 'Down', 'Down', 'Right', 'Up', 'Up', 'Up', 'Left', 'Down', 'Down', 'Down', 'Right', 'Up', 'Up', 'Up', 'Left', 'Down', 'Down', 'Down', 'Right', 'Up', 'Up', 'Up', 'Left', 'Down', 'Down', 'Down', 'Right', 'Up', 'Up', 'Up', 'Left', 'Down', 'Down', 'Down', 'Right', 'Up', 'Up', 'Left', 'Down', 'Down', 'Right', 'Up', 'Up', 'Up', 'Left', 'Down', 'Down', 'Down', 'Right', 'Up', 'Up', 'Up', 'Left', 'Down', 'Down', 'Down', 'Right', 'Up', 'Up', 'Up', 'Left', 'Down', 'Down', 'Right', 'Up', 'Up', 'Left', 'Down', 'Down', 'Right', 'Up', 'Up', 'Left', 'Down', 'Down', 'Down', 'Right', 'Up', 'Up', 'Up', 'Left', 'Down', 'Down', 'Right', 'Up', 'Up', 'Left', 'Down', 'Down', 'Down', 'Right', 'Up', 'Up', 'Up', 'Left', 'Down', 'Down', 'Down', 'Right', 'Up', 'Up', 'Up', 'Left', 'Down', 'Down', 'Down', 'Right', 'Up', 'Up', 'Up', 'Left', 'Down', 'Down', 'Down', 'Right', 'Up', 'Up', 'Up', 'Left', 'Down', 'Down', 'Down', 'Right', 'Up', 'Up', 'Left', 'Down', 'Down', 'Right', 'Up', 'Up', 'Up', 'Left', 'Down', 'Down', 'Down', 'Right', 'Up', 'Up', 'Up', 'Left', 'Down', 'Down', 'Down', 'Right', 'Up', 'Up', 'Up', 'Left', 'Down', 'Down', 'Right', 'Up', 'Up', 'Left', 'Down', 'Down', 'Down', 'Right', 'Up', 'Up', 'Up', 'Left', 'Down', 'Down', 'Down', 'Right', 'Up', 'Left', 'Down', 'Right', 'Up', 'Up', 'Left', 'Down', 'Down', 'Right', 'Up', 'Up', 'Up', 'Left', 'Down', 'Down', 'Down', 'Right', 'Up', 'Up', 'Up', 'Left', 'Down', 'Down', 'Down', 'Right', 'Up', 'Left', 'Down', 'Right', 'Up', 'Up', 'Left', 'Down', 'Down', 'Right', 'Up', 'Up', 'Up', 'Left', 'Down', 'Down', 'Right', 'Up', 'Up', 'Left', 'Down', 'Down', 'Down', 'Right', 'Up', 'Up', 'Up', 'Left', 'Down', 'Right', 'Down', 'Down', 'Left', 'Up', 'Up', 'Up', 'Right', 'Down', 'Down', 'Down', 'Left', 'Up', 'Up', 'Up', 'Right', 'Down', 'Down', 'Down', 'Left', 'Up', 'Up', 'Up', 'Right', 'Down', 'Down', 'Down', 'Left', 'Up', 'Up', 'Up', 'Right', 'Down', 'Down', 'Down', 'Left', 'Up', 'Right', 'Down', 'Left', 'Up', 'Up', 'Up', 'Right', 'Down', 'Down', 'Down', 'Left', 'Up', 'Up', 'Up', 'Right', 'Down', 'Down', 'Down', 'Left', 'Up', 'Up', 'Up', 'Right', 'Down', 'Down', 'Down', 'Left', 'Up', 'Right', 'Down', 'Left', 'Up', 'Up', 'Up', 'Right', 'Down', 'Down', 'Down', 'Left', 'Up', 'Up', 'Up', 'Right', 'Down', 'Down', 'Down', 'Left', 'Up', 'Up', 'Up', 'Right', 'Down', 'Down', 'Down', 'Left', 'Up', 'Up', 'Up', 'Right', 'Down', 'Down', 'Down', 'Left', 'Up', 'Up', 'Up', 'Right', 'Down', 'Down', 'Down', 'Left', 'Up', 'Up', 'Up', 'Right', 'Down', 'Left', 'Down', 'Down', 'Right', 'Up', 'Up', 'Up', 'Left', 'Down', 'Right', 'Up', 'Left', 'Down', 'Down', 'Down', 'Right', 'Up', 'Up', 'Up', 'Left', 'Down', 'Down', 'Down', 'Right', 'Up', 'Up', 'Up', 'Left', 'Down', 'Right', 'Down', 'Down', 'Left', 'Up', 'Right', 'Down', 'Left', 'Up', 'Up', 'Right', 'Down', 'Down', 'Left', 'Up', 'Up', 'Up', 'Right', 'Down', 'Down', 'Down', 'Left', 'Up', 'Up', 'Up', 'Right', 'Down', 'Down', 'Down', 'Left', 'Up', 'Up', 'Right', 'Down', 'Down', 'Left', 'Up', 'Up', 'Right', 'Down', 'Down', 'Left', 'Up', 'Up', 'Up', 'Right', 'Down', 'Down', 'Down', 'Left', 'Up', 'Up', 'Up', 'Right', 'Down', 'Down', 'Down', 'Left', 'Up', 'Up', 'Up', 'Right', 'Down', 'Down', 'Left', 'Up', 'Up', 'Right', 'Down', 'Down', 'Down', 'Left', 'Up', 'Up', 'Up', 'Right', 'Down', 'Down', 'Left', 'Up', 'Up', 'Right', 'Down', 'Down', 'Down', 'Left', 'Up', 'Up', 'Up', 'Right', 'Down', 'Down', 'Down', 'Left', 'Up', 'Up', 'Up', 'Right', 'Down', 'Down', 'Down', 'Left', 'Up', 'Right', 'Down', 'Left', 'Up', 'Up', 'Up', 'Right', 'Down', 'Down', 'Down', 'Left', 'Up', 'Right', 'Down', 'Left', 'Up', 'Up', 'Up', 'Right', 'Down', 'Down', 'Left', 'Up', 'Right', 'Down', 'Left', 'Up', 'Up', 'Right', 'Down', 'Down', 'Down', 'Left', 'Up', 'Up', 'Right', 'Down', 'Down', 'Left', 'Up', 'Up', 'Up', 'Right', 'Down', 'Left', 'Up', 'Right', 'Down', 'Left', 'Down', 'Down', 'Right', 'Up', 'Left', 'Down', 'Right', 'Up', 'Up', 'Up', 'Left', 'Down', 'Down', 'Down', 'Right', 'Up', 'Up', 'Up', 'Left', 'Down', 'Down', 'Down', 'Right', 'Up', 'Up', 'Up', 'Left', 'Down', 'Down', 'Down', 'Right', 'Up', 'Up', 'Up', 'Left', 'Down', 'Down', 'Down', 'Right', 'Up', 'Up', 'Up', 'Left', 'Down', 'Down', 'Down', 'Right', 'Up', 'Up', 'Up', 'Left', 'Down', 'Down', 'Down', 'Right', 'Up', 'Up', 'Left', 'Up', 'Right', 'Down', 'Down', 'Down', 'Left', 'Up', 'Up', 'Up', 'Right', 'Down', 'Down', 'Left', 'Up', 'Up', 'Right', 'Down', 'Down', 'Down', 'Left', 'Up', 'Up', 'Up', 'Right', 'Down', 'Down', 'Down', 'Left', 'Up', 'Up', 'Up', 'Right', 'Down', 'Down', 'Down', 'Left', 'Up', 'Up', 'Up', 'Right', 'Down', 'Down', 'Down', 'Left', 'Up', 'Up', 'Up', 'Right', 'Down', 'Down', 'Down', 'Left', 'Up', 'Up', 'Up', 'Right', 'Down', 'Down', 'Down', 'Left', 'Up', 'Up', 'Up', 'Right', 'Down', 'Left', 'Down', 'Right', 'Up', 'Up', 'Left', 'Down', 'Right', 'Down', 'Down', 'Left', 'Up', 'Up', 'Up', 'Right', 'Down', 'Down', 'Down', 'Left', 'Up', 'Up', 'Up', 'Right', 'Down', 'Down', 'Down', 'Left', 'Up', 'Up', 'Up', 'Right', 'Down', 'Down', 'Down', 'Left', 'Up', 'Up', 'Up', 'Right', 'Down', 'Down', 'Down', 'Left', 'Up', 'Up', 'Up', 'Right', 'Down', 'Down', 'Down', 'Left', 'Up', 'Up', 'Up', 'Right', 'Down', 'Down', 'Down', 'Left', 'Up', 'Up', 'Right', 'Down', 'Down', 'Left', 'Up', 'Up', 'Up', 'Right', 'Down', 'Down', 'Down', 'Left', 'Up', 'Up', 'Right', 'Down', 'Down', 'Left', 'Up', 'Up', 'Up', 'Right', 'Down', 'Down', 'Down', 'Left', 'Up', 'Up', 'Right', 'Down', 'Left', 'Up', 'Up', 'Right', 'Down', 'Down', 'Down', 'Left', 'Up', 'Up', 'Up', 'Right', 'Down', 'Down', 'Left', 'Up', 'Up', 'Right', 'Down', 'Down', 'Down', 'Left', 'Up', 'Right', 'Down', 'Left', 'Up', 'Up', 'Up', 'Right', 'Down', 'Down', 'Down', 'Left', 'Up', 'Right', 'Down', 'Left', 'Up', 'Up', 'Up', 'Right', 'Down', 'Down', 'Down', 'Left', 'Up', 'Up', 'Up', 'Right', 'Down', 'Down', 'Down', 'Left', 'Up', 'Up', 'Up', 'Right', 'Down', 'Down', 'Left', 'Up', 'Up', 'Right', 'Down', 'Down', 'Down', 'Left', 'Up', 'Up', 'Up', 'Right', 'Down', 'Down', 'Down', 'Left', 'Up', 'Up', 'Up', 'Right', 'Down', 'Left', 'Down', 'Down', 'Right', 'Up', 'Up', 'Up', 'Left', 'Down', 'Down', 'Down', 'Right', 'Up', 'Left', 'Down', 'Right', 'Up', 'Up', 'Up', 'Left', 'Down', 'Down', 'Down', 'Right', 'Up', 'Up', 'Up', 'Left', 'Down', 'Down', 'Right', 'Up', 'Up', 'Left', 'Down', 'Down', 'Down', 'Right', 'Up', 'Up', 'Left', 'Down', 'Down', 'Right', 'Up', 'Up', 'Up', 'Left', 'Down', 'Down', 'Down', 'Right', 'Up', 'Up', 'Up', 'Left', 'Down', 'Down', 'Down', 'Right', 'Up', 'Up', 'Up', 'Left', 'Down', 'Down', 'Down', 'Right', 'Up', 'Up', 'Left', 'Down', 'Down', 'Right', 'Up', 'Up', 'Up', 'Left', 'Down', 'Down', 'Down', 'Right', 'Up', 'Up', 'Up', 'Left', 'Down', 'Down', 'Down', 'Right', 'Up', 'Up', 'Up', 'Left', 'Down', 'Down', 'Right', 'Up', 'Up', 'Left', 'Down', 'Down', 'Down', 'Right', 'Up', 'Up', 'Up', 'Left', 'Down', 'Down', 'Down', 'Right', 'Up', 'Up', 'Left', 'Down', 'Down', 'Right', 'Up', 'Left', 'Down', 'Right', 'Up', 'Up', 'Up', 'Left', 'Down', 'Down', 'Down', 'Right', 'Up', 'Up', 'Up', 'Left', 'Down', 'Down', 'Down', 'Right', 'Up', 'Up', 'Up', 'Left', 'Down', 'Right', 'Down', 'Down', 'Left', 'Up', 'Up', 'Up', 'Right', 'Down', 'Down', 'Down', 'Left', 'Up', 'Up', 'Up', 'Right', 'Down', 'Left', 'Down', 'Down', 'Right', 'Up', 'Up', 'Up', 'Left', 'Down', 'Down', 'Down', 'Right', 'Up', 'Up', 'Up', 'Left', 'Down', 'Down', 'Down', 'Right', 'Up', 'Up', 'Up', 'Left', 'Down', 'Down', 'Down', 'Right', 'Up', 'Up', 'Up', 'Left', 'Down', 'Right', 'Down', 'Down', 'Left', 'Up', 'Up', 'Up', 'Right', 'Down', 'Down', 'Down', 'Left', 'Up', 'Up', 'Up', 'Right', 'Down', 'Down', 'Down', 'Left', 'Up', 'Up', 'Up', 'Right', 'Down', 'Down', 'Left', 'Up', 'Up', 'Right', 'Down', 'Down', 'Down', 'Left', 'Up', 'Up', 'Up', 'Right', 'Down', 'Down', 'Down', 'Left', 'Up', 'Right', 'Down', 'Left', 'Up', 'Up', 'Up', 'Right', 'Down', 'Down', 'Left', 'Up', 'Up', 'Right', 'Down', 'Down', 'Down', 'Left', 'Up', 'Right', 'Down', 'Left', 'Up', 'Up', 'Up', 'Right', 'Down', 'Down', 'Down', 'Left', 'Up', 'Up', 'Up', 'Right', 'Down', 'Down', 'Down', 'Left', 'Up', 'Up', 'Up', 'Right', 'Down', 'Down', 'Down', 'Left', 'Up', 'Up', 'Up', 'Right', 'Down', 'Left', 'Up', 'Right', 'Down', 'Down', 'Down', 'Left', 'Up', 'Up', 'Up', 'Right', 'Down', 'Down', 'Down', 'Left', 'Up', 'Up', 'Up', 'Right', 'Down', 'Left', 'Up', 'Right', 'Down', 'Down', 'Down', 'Left', 'Up', 'Up', 'Up', 'Right', 'Down', 'Down', 'Down', 'Left', 'Up', 'Up', 'Right', 'Down', 'Down', 'Left', 'Up', 'Up', 'Up', 'Right', 'Down', 'Down', 'Down', 'Left', 'Up', 'Right', 'Down', 'Left', 'Up', 'Up', 'Up', 'Right', 'Down', 'Down', 'Down', 'Left', 'Up', 'Up', 'Right', 'Down', 'Left', 'Up', 'Up', 'Right', 'Down', 'Down', 'Down', 'Left', 'Up', 'Up', 'Right', 'Down', 'Down', 'Left', 'Up', 'Up', 'Right', 'Down', 'Down', 'Left', 'Up', 'Up', 'Up', 'Right', 'Down', 'Down', 'Down', 'Left', 'Up', 'Up', 'Up', 'Right', 'Down', 'Left', 'Down', 'Down', 'Right', 'Up', 'Up', 'Up', 'Left', 'Down', 'Right', 'Down', 'Down', 'Left', 'Up', 'Up', 'Up', 'Right', 'Down', 'Down', 'Down', 'Left', 'Up', 'Up', 'Up', 'Right', 'Down', 'Down', 'Down', 'Left', 'Up', 'Up', 'Up', 'Right', 'Down', 'Down', 'Down', 'Left', 'Up', 'Up', 'Up', 'Right', 'Down', 'Down', 'Down', 'Left', 'Up', 'Up', 'Up', 'Right', 'Down', 'Down', 'Down', 'Left', 'Up', 'Right', 'Down', 'Left', 'Up', 'Up', 'Up', 'Right', 'Down', 'Down', 'Down', 'Left', 'Up', 'Right', 'Down', 'Left', 'Up', 'Right', 'Up', 'Up', 'Left', 'Down', 'Down', 'Down', 'Right', 'Up', 'Left', 'Down', 'Right', 'Up', 'Up', 'Up', 'Left', 'Down', 'Down', 'Down', 'Right', 'Up', 'Up', 'Up', 'Left', 'Down', 'Down', 'Down', 'Right', 'Up', 'Up', 'Up', 'Left', 'Down', 'Down', 'Down', 'Right', 'Up', 'Up', 'Up', 'Left', 'Down', 'Down', 'Down', 'Right', 'Up', 'Up', 'Up', 'Left', 'Down', 'Down', 'Down', 'Right', 'Up', 'Up', 'Up', 'Left', 'Down', 'Down', 'Down', 'Right', 'Up', 'Up', 'Left', 'Down', 'Down', 'Right', 'Up', 'Left', 'Down', 'Right', 'Up', 'Up', 'Up', 'Left', 'Down', 'Down', 'Right', 'Up', 'Left', 'Down', 'Down', 'Right', 'Up', 'Up', 'Up', 'Left', 'Down', 'Down', 'Right', 'Up', 'Up', 'Left', 'Down', 'Down', 'Down', 'Right', 'Up', 'Up', 'Up', 'Left', 'Down', 'Down', 'Down', 'Right', 'Up', 'Up', 'Up', 'Left', 'Down', 'Down', 'Down', 'Right', 'Up', 'Up', 'Up', 'Left', 'Down', 'Down', 'Down', 'Right', 'Up', 'Up', 'Up', 'Left', 'Down', 'Down', 'Down', 'Right', 'Up', 'Up', 'Up', 'Left', 'Down', 'Down', 'Down', 'Right', 'Up', 'Up', 'Up', 'Left', 'Down', 'Right', 'Down', 'Down', 'Left', 'Up', 'Right', 'Down', 'Left', 'Up', 'Up', 'Up', 'Right', 'Down', 'Down', 'Down', 'Left', 'Up', 'Up', 'Up', 'Right', 'Down', 'Down', 'Down', 'Left', 'Up', 'Up', 'Up', 'Right', 'Down', 'Down', 'Down', 'Left', 'Up', 'Up', 'Up', 'Right', 'Down', 'Down', 'Down', 'Left', 'Up', 'Up', 'Up', 'Right', 'Down', 'Down', 'Down', 'Left', 'Up', 'Up', 'Up', 'Right', 'Down', 'Down', 'Down', 'Left', 'Up', 'Up', 'Right', 'Down', 'Down', 'Left', 'Up', 'Up', 'Up', 'Right', 'Down', 'Down', 'Down', 'Left', 'Up', 'Up', 'Up', 'Right', 'Down', 'Down', 'Down', 'Left', 'Up', 'Up', 'Up', 'Right', 'Down', 'Left', 'Up', 'Right', 'Down', 'Down', 'Down', 'Left', 'Up', 'Right', 'Down', 'Left', 'Up', 'Up', 'Up', 'Right', 'Down', 'Down', 'Down', 'Left', 'Up', 'Up', 'Up', 'Right', 'Down', 'Down', 'Down', 'Left', 'Up', 'Up', 'Up', 'Right', 'Down', 'Left', 'Down', 'Down', 'Right', 'Up', 'Up', 'Up', 'Left', 'Down', 'Right', 'Down', 'Down', 'Left', 'Up', 'Up', 'Up', 'Right', 'Down', 'Down', 'Down', 'Left', 'Up', 'Up', 'Up', 'Right', 'Down', 'Left', 'Down', 'Down', 'Right', 'Up', 'Up', 'Up', 'Left', 'Down', 'Down', 'Down', 'Right', 'Up', 'Up', 'Up', 'Left', 'Down', 'Down', 'Down', 'Right', 'Up', 'Up', 'Up', 'Left', 'Down', 'Right', 'Up', 'Left', 'Down', 'Down', 'Right', 'Up', 'Up', 'Left', 'Down', 'Down', 'Down', 'Right', 'Up', 'Up', 'Left', 'Down', 'Down', 'Right', 'Up', 'Left', 'Down', 'Right', 'Up', 'Up', 'Up', 'Left', 'Down', 'Down', 'Down', 'Right', 'Up', 'Up', 'Up', 'Left', 'Down', 'Right', 'Down', 'Down', 'Left', 'Up', 'Up', 'Up', 'Right', 'Down', 'Down', 'Down', 'Left', 'Up', 'Up', 'Up', 'Right', 'Down', 'Down', 'Down', 'Left', 'Up', 'Up', 'Up', 'Right', 'Down', 'Down', 'Down', 'Left', 'Up', 'Up', 'Up', 'Right', 'Down', 'Down', 'Down', 'Left', 'Up', 'Up', 'Up', 'Right', 'Down', 'Down', 'Down', 'Left', 'Up', 'Up', 'Up', 'Right', 'Down', 'Down', 'Down', 'Left', 'Up', 'Up', 'Right', 'Down', 'Down', 'Left', 'Up', 'Up', 'Up', 'Right', 'Down', 'Down', 'Down', 'Left', 'Up', 'Up', 'Up', 'Right', 'Down', 'Down', 'Left', 'Up', 'Up', 'Right', 'Down', 'Down', 'Down', 'Left', 'Up', 'Up', 'Up', 'Right', 'Down', 'Left', 'Down', 'Down', 'Right', 'Up', 'Up', 'Left', 'Down', 'Down', 'Right', 'Up', 'Up', 'Up', 'Left', 'Down', 'Right', 'Down', 'Down', 'Left', 'Up', 'Up', 'Up', 'Right', 'Down', 'Down', 'Down', 'Left', 'Up', 'Up', 'Up', 'Right', 'Down', 'Left', 'Up', 'Right', 'Down', 'Down', 'Left', 'Up', 'Up', 'Right', 'Down', 'Down', 'Down', 'Left', 'Up', 'Up', 'Up', 'Right', 'Down', 'Down', 'Down', 'Left', 'Up', 'Up', 'Up', 'Right', 'Down', 'Left', 'Up', 'Right', 'Down', 'Down', 'Down', 'Left', 'Up', 'Up', 'Up', 'Right', 'Down', 'Left', 'Down', 'Down', 'Right', 'Up', 'Left', 'Down', 'Right', 'Up', 'Up', 'Up', 'Left', 'Down', 'Down', 'Down', 'Right', 'Up', 'Up', 'Up', 'Left', 'Down', 'Down', 'Down', 'Right', 'Up', 'Left', 'Down', 'Right', 'Up', 'Up', 'Up', 'Left', 'Down', 'Down', 'Down', 'Right', 'Up', 'Up', 'Up', 'Left', 'Down', 'Down', 'Down', 'Right', 'Up', 'Up', 'Up', 'Left', 'Down', 'Down', 'Down', 'Right', 'Up', 'Up', 'Up', 'Left', 'Down', 'Down', 'Down', 'Right', 'Up', 'Up', 'Up', 'Left', 'Down', 'Down', 'Down', 'Right', 'Up', 'Left', 'Down', 'Right', 'Up', 'Up', 'Left', 'Down', 'Down', 'Right', 'Up', 'Up', 'Up', 'Left', 'Down', 'Down', 'Right', 'Up', 'Up', 'Left', 'Down', 'Right', 'Down', 'Down', 'Left', 'Up', 'Up', 'Up', 'Right', 'Down', 'Left', 'Up', 'Right', 'Down', 'Left', 'Down', 'Down', 'Right', 'Up', 'Up', 'Up', 'Left', 'Down', 'Down', 'Down', 'Right', 'Up', 'Left', 'Down', 'Right', 'Up', 'Up', 'Up', 'Left', 'Down', 'Down', 'Down', 'Right', 'Up', 'Up', 'Up', 'Left', 'Down', 'Down', 'Down', 'Right', 'Up', 'Left', 'Down', 'Right', 'Up', 'Left', 'Up', 'Up', 'Right', 'Down', 'Down', 'Down', 'Left', 'Up', 'Up', 'Up', 'Right', 'Down', 'Down', 'Down', 'Left', 'Up', 'Right', 'Down', 'Left', 'Up', 'Right', 'Up', 'Up', 'Left', 'Down', 'Down', 'Down', 'Right', 'Up', 'Up', 'Up', 'Left', 'Down', 'Down', 'Down', 'Right', 'Up', 'Up', 'Up', 'Left', 'Down', 'Down', 'Down', 'Right', 'Up', 'Up', 'Up', 'Left', 'Down', 'Down', 'Down', 'Right', 'Up', 'Up', 'Up', 'Left', 'Down', 'Down', 'Right', 'Up', 'Up', 'Left', 'Down', 'Down', 'Down', 'Right', 'Up', 'Up', 'Up', 'Left', 'Down', 'Down', 'Down', 'Right', 'Up', 'Up', 'Up', 'Left', 'Down', 'Down', 'Down', 'Right', 'Up', 'Up', 'Left', 'Down', 'Right', 'Up', 'Up', 'Left', 'Down', 'Down', 'Down', 'Right', 'Up', 'Up', 'Up', 'Left', 'Down', 'Down', 'Right', 'Up', 'Left', 'Down', 'Down', 'Right', 'Up', 'Up', 'Up', 'Left', 'Down', 'Down', 'Down', 'Right', 'Up', 'Left', 'Down', 'Right', 'Up', 'Up', 'Up', 'Left', 'Down', 'Down', 'Down', 'Right', 'Up', 'Up', 'Up', 'Left', 'Down', 'Down', 'Down', 'Right', 'Up', 'Up', 'Up', 'Left', 'Down', 'Down', 'Down', 'Right', 'Up', 'Up', 'Up', 'Left', 'Down', 'Down', 'Down', 'Right', 'Up', 'Up', 'Up', 'Left', 'Down', 'Down', 'Down', 'Right', 'Up', 'Up', 'Left', 'Down', 'Right', 'Up', 'Left', 'Down', 'Down', 'Right', 'Up', 'Up', 'Up', 'Left', 'Down', 'Right', 'Up', 'Left', 'Down', 'Right', 'Down', 'Down', 'Left', 'Up', 'Right', 'Down', 'Left', 'Up', 'Up', 'Up', 'Right', 'Down', 'Down', 'Down', 'Left', 'Up', 'Up', 'Up', 'Right', 'Down', 'Down', 'Down', 'Left', 'Up', 'Up', 'Right', 'Down', 'Down', 'Left', 'Up', 'Up', 'Up', 'Right', 'Down', 'Down', 'Down', 'Left', 'Up', 'Up', 'Up', 'Right', 'Down', 'Down', 'Down', 'Left', 'Up', 'Up', 'Up', 'Right', 'Down', 'Left', 'Down', 'Right', 'Up', 'Left', 'Down', 'Down', 'Right', 'Up', 'Up', 'Up', 'Left', 'Down', 'Down', 'Down', 'Right', 'Up', 'Left', 'Down', 'Right', 'Up', 'Up', 'Left', 'Up', 'Right', 'Down', 'Down', 'Left', 'Up', 'Right', 'Down', 'Down', 'Left', 'Up', 'Up', 'Up', 'Right', 'Down', 'Down', 'Down', 'Left', 'Up', 'Right', 'Down', 'Left', 'Up', 'Up', 'Up', 'Right', 'Down', 'Left', 'Down', 'Down', 'Right', 'Up', 'Up', 'Up', 'Left', 'Down', 'Right', 'Down', 'Down', 'Left', 'Up', 'Up', 'Up', 'Right', 'Down', 'Down', 'Down', 'Left', 'Up', 'Up', 'Up', 'Right', 'Down', 'Down', 'Down', 'Left', 'Up', 'Right', 'Down', 'Left', 'Up', 'Up', 'Right', 'Down', 'Down', 'Left', 'Up', 'Up', 'Up', 'Right', 'Down', 'Down', 'Down', 'Left', 'Up', 'Up', 'Right', 'Down', 'Down', 'Left', 'Up', 'Up', 'Up', 'Right', 'Down', 'Down', 'Down', 'Left', 'Up', 'Up', 'Up', 'Right', 'Down', 'Left', 'Down', 'Down', 'Right', 'Up', 'Up', 'Up', 'Left', 'Down', 'Down', 'Down', 'Right', 'Up', 'Up', 'Up', 'Left', 'Down', 'Right', 'Up', 'Left', 'Down', 'Down', 'Down', 'Right', 'Up', 'Up', 'Up', 'Left', 'Down', 'Right', 'Down', 'Down', 'Left', 'Up', 'Up', 'Up', 'Right', 'Down', 'Left', 'Down', 'Down', 'Right', 'Up', 'Up', 'Up', 'Left', 'Down', 'Down', 'Down', 'Right', 'Up', 'Up', 'Up', 'Left', 'Down', 'Down', 'Down', 'Right', 'Up', 'Up', 'Up', 'Left', 'Down', 'Down', 'Right', 'Up', 'Left', 'Down', 'Right', 'Up', 'Up', 'Left', 'Down', 'Down', 'Down', 'Right', 'Up', 'Up', 'Left', 'Down', 'Down', 'Right', 'Up', 'Up', 'Up', 'Left', 'Down', 'Down', 'Right', 'Up', 'Up', 'Left', 'Down', 'Right', 'Down', 'Down', 'Left', 'Up', 'Up', 'Up', 'Right', 'Down', 'Down', 'Down', 'Left', 'Up', 'Up', 'Up', 'Right', 'Down', 'Down', 'Left', 'Up', 'Up', 'Right', 'Down', 'Down', 'Down', 'Left', 'Up', 'Up', 'Up', 'Right', 'Down', 'Down', 'Left', 'Up', 'Up', 'Right', 'Down', 'Down', 'Down', 'Left', 'Up', 'Right', 'Down', 'Left', 'Up', 'Right', 'Up', 'Up', 'Left', 'Down', 'Down', 'Down', 'Right', 'Up', 'Up', 'Up', 'Left', 'Down', 'Down', 'Down', 'Right', 'Up', 'Up', 'Left', 'Down', 'Down', 'Right', 'Up', 'Up', 'Left', 'Down', 'Down', 'Right', 'Up', 'Up', 'Up', 'Left', 'Down', 'Right', 'Down', 'Down', 'Left', 'Up', 'Up', 'Up', 'Right', 'Down', 'Down', 'Down', 'Left', 'Up', 'Up', 'Up', 'Right', 'Down', 'Down', 'Down', 'Left', 'Up', 'Right', 'Down', 'Left', 'Up', 'Right', 'Up', 'Up', 'Left', 'Down', 'Down', 'Down', 'Right', 'Up', 'Left', 'Down', 'Right', 'Up', 'Up', 'Up', 'Left', 'Down', 'Down', 'Down', 'Right', 'Up', 'Left', 'Down', 'Right', 'Up', 'Up', 'Up', 'Left', 'Down', 'Down', 'Down', 'Right', 'Up', 'Up', 'Up', 'Left', 'Down', 'Down', 'Down', 'Right', 'Up', 'Up', 'Up', 'Left', 'Down', 'Down', 'Down', 'Right', 'Up', 'Up', 'Up', 'Left', 'Down', 'Down', 'Down', 'Right', 'Up', 'Up', 'Up', 'Left', 'Down', 'Down', 'Down', 'Right', 'Up', 'Up', 'Up', 'Left', 'Down', 'Down', 'Down', 'Right', 'Up', 'Up', 'Left', 'Down', 'Right', 'Up', 'Left', 'Down', 'Right', 'Up', 'Up', 'Left', 'Down', 'Down', 'Down', 'Right', 'Up', 'Up', 'Up', 'Left', 'Down', 'Right', 'Down', 'Down', 'Left', 'Up', 'Up', 'Up', 'Right', 'Down', 'Down', 'Down', 'Left', 'Up', 'Up', 'Up', 'Right', 'Down', 'Left', 'Up', 'Right', 'Down', 'Down', 'Down', 'Left', 'Up', 'Up', 'Up', 'Right', 'Down', 'Down', 'Down', 'Left', 'Up', 'Right', 'Down', 'Left', 'Up', 'Up', 'Up', 'Right', 'Down', 'Down', 'Down', 'Left', 'Up', 'Up', 'Up', 'Right', 'Down', 'Down', 'Down', 'Left', 'Up', 'Right', 'Down', 'Left', 'Up', 'Right', 'Up', 'Up', 'Left', 'Down', 'Down', 'Down', 'Right', 'Up', 'Left', 'Down', 'Right', 'Up', 'Left', 'Up', 'Up', 'Right', 'Down', 'Down', 'Down', 'Left', 'Up', 'Up', 'Up', 'Right', 'Down', 'Left', 'Down', 'Down', 'Right', 'Up', 'Up', 'Up', 'Left', 'Down', 'Down', 'Down', 'Right', 'Up', 'Up', 'Up', 'Left', 'Down', 'Right', 'Down', 'Down', 'Left', 'Up', 'Up', 'Up', 'Right', 'Down', 'Down', 'Down', 'Left', 'Up', 'Right', 'Down', 'Left', 'Up', 'Right', 'Up', 'Up', 'Left', 'Down', 'Down', 'Down', 'Right', 'Up', 'Up', 'Left', 'Down', 'Right', 'Up', 'Up', 'Left', 'Down', 'Down', 'Down', 'Right', 'Up', 'Left', 'Down', 'Right', 'Up', 'Up', 'Up', 'Left', 'Down', 'Down', 'Down', 'Right', 'Up', 'Left', 'Down', 'Right', 'Up', 'Up', 'Up', 'Left', 'Down', 'Down', 'Down', 'Right', 'Up', 'Left', 'Down', 'Right', 'Up', 'Up', 'Up', 'Left', 'Down', 'Right', 'Down', 'Down', 'Left', 'Up', 'Up', 'Up', 'Right', 'Down', 'Down', 'Down', 'Left', 'Up', 'Up', 'Right', 'Down', 'Down', 'Left', 'Up', 'Up', 'Up', 'Right', 'Down', 'Down', 'Left', 'Up', 'Right', 'Down', 'Down', 'Left', 'Up', 'Up', 'Up', 'Right', 'Down', 'Down', 'Down', 'Left', 'Up', 'Up', 'Up', 'Right', 'Down', 'Down', 'Down', 'Left', 'Up', 'Up', 'Up', 'Right', 'Down', 'Left', 'Up', 'Right', 'Down', 'Down', 'Down', 'Left', 'Up', 'Right', 'Down', 'Left', 'Up', 'Right', 'Up', 'Left', 'Down', 'Right', 'Up', 'Up', 'Left', 'Down', 'Down', 'Down', 'Right', 'Up', 'Up', 'Up', 'Left', 'Down', 'Right', 'Up', 'Left', 'Down', 'Right', 'Down', 'Down', 'Left', 'Up', 'Up', 'Up', 'Right', 'Down', 'Down', 'Down', 'Left', 'Up', 'Up', 'Up', 'Right', 'Down', 'Down', 'Down', 'Left', 'Up', 'Up', 'Up', 'Right', 'Down', 'Down', 'Down', 'Left', 'Up', 'Up', 'Up', 'Right', 'Down', 'Down', 'Down', 'Left', 'Up', 'Right', 'Down', 'Left', 'Up', 'Up', 'Right', 'Down', 'Down', 'Left', 'Up', 'Up', 'Up', 'Right', 'Down', 'Down', 'Left', 'Up', 'Up', 'Right', 'Down', 'Down', 'Down', 'Left', 'Up', 'Up', 'Right', 'Down', 'Down', 'Left', 'Up', 'Right', 'Down', 'Left', 'Up', 'Up', 'Up', 'Right', 'Down', 'Down', 'Down', 'Left', 'Up', 'Right', 'Down', 'Left', 'Up', 'Up', 'Up', 'Right', 'Down', 'Down', 'Down', 'Left', 'Up', 'Up', 'Up', 'Right', 'Down', 'Down', 'Down', 'Left', 'Up', 'Up', 'Up', 'Right', 'Down', 'Down', 'Down', 'Left', 'Up', 'Up', 'Up', 'Right', 'Down', 'Down', 'Left', 'Up', 'Right', 'Down', 'Down', 'Left', 'Up', 'Up', 'Right', 'Down', 'Left', 'Up', 'Right', 'Down', 'Down', 'Left', 'Up', 'Right', 'Down', 'Left', 'Up', 'Up', 'Up', 'Right', 'Down', 'Down', 'Down', 'Left', 'Up', 'Up', 'Up', 'Right', 'Down', 'Left', 'Down', 'Down', 'Right', 'Up', 'Up', 'Up', 'Left', 'Down', 'Down', 'Down', 'Right', 'Up', 'Up', 'Up', 'Left', 'Down', 'Down', 'Right', 'Up', 'Up', 'Left', 'Down', 'Down', 'Down', 'Right', 'Up', 'Up', 'Up', 'Left', 'Down', 'Right', 'Down', 'Down', 'Left', 'Up', 'Up', 'Right', 'Down', 'Down', 'Left', 'Up', 'Right', 'Down', 'Left', 'Up', 'Up', 'Up', 'Right', 'Down', 'Left', 'Up', 'Right', 'Down', 'Down', 'Down', 'Left', 'Up', 'Up', 'Up', 'Right', 'Down', 'Left', 'Down', 'Down', 'Right', 'Up', 'Up', 'Up', 'Left', 'Down', 'Right', 'Up', 'Left', 'Down', 'Down', 'Down', 'Right', 'Up', 'Up', 'Up', 'Left', 'Down', 'Down', 'Down', 'Right', 'Up', 'Up', 'Up', 'Left', 'Down', 'Right', 'Down', 'Down', 'Left', 'Up', 'Up', 'Up', 'Right', 'Down', 'Down', 'Down', 'Left', 'Up', 'Up', 'Up', 'Right', 'Down', 'Down', 'Left', 'Up', 'Up', 'Right', 'Down', 'Down', 'Down', 'Left', 'Up', 'Up', 'Right', 'Down', 'Down', 'Left', 'Up', 'Up', 'Up', 'Right', 'Down', 'Down', 'Down', 'Left', 'Up', 'Right', 'Down', 'Left', 'Up', 'Up', 'Up', 'Right', 'Down', 'Down', 'Down', 'Left', 'Up', 'Up', 'Up', 'Right', 'Down', 'Left', 'Down', 'Down', 'Right', 'Up', 'Up', 'Left', 'Down', 'Right', 'Up', 'Up', 'Left', 'Down', 'Right', 'Up', 'Left', 'Down', 'Down', 'Down', 'Right', 'Up', 'Up', 'Up', 'Left', 'Down', 'Down', 'Down', 'Right', 'Up', 'Up', 'Left', 'Down', 'Down', 'Right', 'Up', 'Up', 'Up', 'Left', 'Down', 'Down', 'Down', 'Right', 'Up', 'Up', 'Left', 'Down', 'Down', 'Right', 'Up', 'Up', 'Up', 'Left', 'Down', 'Down', 'Right', 'Up', 'Up', 'Left', 'Down', 'Down', 'Down', 'Right', 'Up', 'Up', 'Up', 'Left', 'Down', 'Right', 'Down', 'Down', 'Left', 'Up', 'Up', 'Up', 'Right', 'Down', 'Down', 'Down', 'Left', 'Up', 'Right', 'Down', 'Left', 'Up', 'Up', 'Up', 'Right', 'Down', 'Down', 'Down', 'Left', 'Up', 'Up', 'Up', 'Right', 'Down', 'Down', 'Down', 'Left', 'Up', 'Up', 'Up', 'Right', 'Down', 'Left', 'Up', 'Right', 'Down', 'Down', 'Down', 'Left', 'Up', 'Up', 'Up', 'Right', 'Down', 'Left', 'Down', 'Down', 'Right', 'Up', 'Up', 'Up', 'Left', 'Down', 'Down', 'Down', 'Right', 'Up', 'Left', 'Down', 'Right', 'Up', 'Up', 'Up', 'Left', 'Down', 'Right', 'Up', 'Left', 'Down', 'Down', 'Down', 'Right', 'Up', 'Up', 'Left', 'Down', 'Down', 'Right', 'Up', 'Left', 'Down', 'Right', 'Up', 'Up', 'Up', 'Left', 'Down', 'Down', 'Down', 'Right', 'Up', 'Up', 'Up', 'Left', 'Down', 'Down', 'Down', 'Right', 'Up', 'Up', 'Up', 'Left', 'Down', 'Down', 'Down', 'Right', 'Up', 'Left', 'Down', 'Right', 'Up', 'Left', 'Up', 'Up', 'Right', 'Down', 'Down', 'Down', 'Left', 'Up', 'Up', 'Up', 'Right', 'Down', 'Left', 'Up', 'Right', 'Down', 'Down', 'Down', 'Left', 'Up', 'Up', 'Up', 'Right', 'Down', 'Down', 'Down', 'Left', 'Up', 'Up', 'Up', 'Right', 'Down', 'Down', 'Left', 'Up', 'Up', 'Right', 'Down', 'Left', 'Down', 'Down', 'Right', 'Up', 'Left', 'Down', 'Right', 'Up', 'Left', 'Up', 'Up', 'Right', 'Down', 'Down', 'Left', 'Up', 'Up', 'Right', 'Down', 'Down', 'Down', 'Left', 'Up', 'Up', 'Up', 'Right', 'Down', 'Left', 'Down', 'Down', 'Right', 'Up', 'Left', 'Down', 'Right', 'Up', 'Left', 'Up', 'Up', 'Right', 'Down', 'Down', 'Down', 'Left', 'Up', 'Up', 'Up', 'Right', 'Down', 'Down', 'Down', 'Left', 'Up', 'Up', 'Up', 'Right', 'Down', 'Down', 'Down', 'Left', 'Up', 'Up', 'Up', 'Right', 'Down', 'Down', 'Down', 'Left', 'Up', 'Right', 'Down', 'Left', 'Up', 'Up', 'Up', 'Right', 'Down', 'Down', 'Down', 'Left', 'Up', 'Up', 'Up', 'Right', 'Down', 'Down', 'Down', 'Left', 'Up', 'Up', 'Up', 'Right', 'Down', 'Down', 'Left', 'Up', 'Right', 'Down', 'Down', 'Left', 'Up', 'Up', 'Up', 'Right', 'Down', 'Down', 'Down', 'Left', 'Up', 'Up', 'Right', 'Down', 'Down', 'Left', 'Up', 'Up', 'Up', 'Right', 'Down', 'Down', 'Down', 'Left', 'Up', 'Up', 'Up', 'Right', 'Down', 'Down', 'Down', 'Left', 'Up', 'Right', 'Down', 'Left', 'Up', 'Up', 'Right', 'Down', 'Down', 'Left', 'Up', 'Up', 'Right', 'Down', 'Down', 'Left', 'Up', 'Up', 'Up', 'Right', 'Down', 'Down', 'Down', 'Left', 'Up', 'Up', 'Up', 'Right', 'Down', 'Down', 'Down', 'Left', 'Up', 'Up', 'Up', 'Right', 'Down', 'Left', 'Down', 'Down', 'Right', 'Up', 'Left', 'Down', 'Right', 'Up', 'Left', 'Up', 'Up', 'Right', 'Down', 'Down', 'Down', 'Left', 'Up', 'Up', 'Up', 'Right', 'Down', 'Down', 'Down', 'Left', 'Up', 'Up', 'Up', 'Right', 'Down', 'Down', 'Down', 'Left', 'Up', 'Right', 'Down', 'Left', 'Up', 'Right', 'Up', 'Up', 'Left', 'Down', 'Right', 'Down', 'Down', 'Left', 'Up', 'Up', 'Right', 'Down', 'Down', 'Left', 'Up', 'Up', 'Up', 'Right', 'Down', 'Down', 'Down', 'Left', 'Up', 'Up', 'Up', 'Right', 'Down', 'Down', 'Down', 'Left', 'Up', 'Up', 'Right', 'Down', 'Down', 'Left', 'Up', 'Up', 'Up', 'Right', 'Down', 'Down', 'Down', 'Left', 'Up', 'Up', 'Right', 'Down', 'Down', 'Left', 'Up', 'Up', 'Up', 'Right', 'Down', 'Down', 'Down', 'Left', 'Up', 'Right', 'Down', 'Left', 'Up', 'Up', 'Up', 'Right', 'Down', 'Down', 'Down', 'Left', 'Up', 'Up', 'Up', 'Right', 'Down', 'Down', 'Left', 'Up', 'Up', 'Right', 'Down', 'Left', 'Down', 'Down', 'Right', 'Up', 'Up', 'Up', 'Left', 'Down', 'Down', 'Down', 'Right', 'Up', 'Up', 'Left', 'Down', 'Right', 'Up', 'Up', 'Left', 'Down', 'Right', 'Down', 'Down', 'Left', 'Up', 'Up', 'Up', 'Right', 'Down', 'Down', 'Down', 'Left', 'Up', 'Up', 'Right', 'Down', 'Down', 'Left', 'Up', 'Up', 'Up', 'Right', 'Down', 'Down', 'Left', 'Up', 'Up', 'Right', 'Down', 'Down', 'Down', 'Left', 'Up', 'Right', 'Down', 'Left', 'Up', 'Up', 'Up', 'Right', 'Down', 'Down', 'Down', 'Left', 'Up', 'Right', 'Down', 'Left', 'Up', 'Up', 'Up', 'Right', 'Down', 'Left', 'Down', 'Down', 'Right', 'Up', 'Left', 'Down', 'Right', 'Up', 'Up', 'Left', 'Down', 'Down', 'Right', 'Up', 'Up', 'Up', 'Left', 'Down', 'Down', 'Down', 'Right', 'Up', 'Up', 'Left', 'Down', 'Down', 'Right', 'Up', 'Up', 'Left', 'Down', 'Down', 'Right', 'Up', 'Up', 'Up', 'Left', 'Down', 'Down', 'Down', 'Right', 'Up', 'Up', 'Up', 'Left', 'Down', 'Right', 'Up', 'Left', 'Down', 'Down', 'Down', 'Right', 'Up', 'Left', 'Down', 'Right', 'Up', 'Up', 'Up', 'Left', 'Down', 'Down', 'Down', 'Right', 'Up', 'Left', 'Down', 'Right', 'Up', 'Up', 'Up', 'Left', 'Down', 'Down', 'Down', 'Right', 'Up', 'Left', 'Down', 'Right', 'Up', 'Left', 'Up', 'Up', 'Right', 'Down', 'Down', 'Down', 'Left', 'Up', 'Up', 'Up', 'Right', 'Down', 'Down', 'Left', 'Up', 'Right', 'Down', 'Left', 'Up', 'Up', 'Right', 'Down', 'Down', 'Down', 'Left', 'Up', 'Up', 'Up', 'Right', 'Down', 'Left', 'Down', 'Right', 'Up', 'Up', 'Left', 'Down', 'Right', 'Up', 'Left', 'Down', 'Down', 'Right', 'Up', 'Up', 'Left', 'Down', 'Down', 'Down', 'Right', 'Up', 'Up', 'Up', 'Left', 'Down', 'Down', 'Right', 'Up', 'Left', 'Down', 'Right', 'Up', 'Up', 'Left', 'Down', 'Down', 'Down', 'Right', 'Up', 'Left', 'Down', 'Right', 'Up', 'Up', 'Up', 'Left', 'Down', 'Right', 'Down', 'Down', 'Left', 'Up', 'Up', 'Up', 'Right', 'Down', 'Down', 'Down', 'Left', 'Up', 'Right', 'Down', 'Left', 'Up', 'Up', 'Up', 'Right', 'Down', 'Down', 'Down', 'Left', 'Up', 'Up', 'Up', 'Right', 'Down', 'Down', 'Down', 'Left', 'Up', 'Up', 'Right', 'Down', 'Down', 'Left', 'Up', 'Right', 'Down', 'Left', 'Up', 'Right', 'Up', 'Up', 'Left', 'Down', 'Down', 'Down', 'Right', 'Up', 'Up', 'Up', 'Left', 'Down', 'Down', 'Right', 'Up', 'Up', 'Left', 'Down', 'Right', 'Down', 'Down', 'Left', 'Up', 'Up', 'Up', 'Right', 'Down', 'Down', 'Down', 'Left', 'Up', 'Right', 'Down', 'Left', 'Up', 'Up', 'Up', 'Right', 'Down', 'Down', 'Down', 'Left', 'Up', 'Right', 'Down', 'Left', 'Up', 'Right', 'Up', 'Up', 'Left', 'Down', 'Right', 'Up', 'Left', 'Down', 'Right', 'Down', 'Down', 'Left', 'Up', 'Up', 'Up', 'Right', 'Down', 'Left', 'Up', 'Right', 'Down', 'Left', 'Down', 'Down', 'Right', 'Up', 'Up', 'Up', 'Left', 'Down', 'Down', 'Down', 'Right', 'Up', 'Up', 'Up', 'Left', 'Down', 'Down', 'Down', 'Right', 'Up', 'Up', 'Up', 'Left', 'Down', 'Down', 'Down', 'Right', 'Up', 'Left', 'Down', 'Right', 'Up', 'Left', 'Up', 'Up', 'Right', 'Down', 'Down', 'Down', 'Left', 'Up', 'Up', 'Up', 'Right', 'Down', 'Down', 'Down', 'Left', 'Up', 'Right', 'Down', 'Left', 'Up', 'Up', 'Up', 'Right', 'Down', 'Left', 'Up', 'Right', 'Down', 'Down', 'Down', 'Left', 'Up', 'Up', 'Up', 'Right', 'Down', 'Down', 'Down', 'Left', 'Up', 'Up', 'Up', 'Right', 'Down', 'Down', 'Left', 'Up', 'Up', 'Right', 'Down', 'Left', 'Down', 'Down', 'Right', 'Up', 'Up', 'Up', 'Left', 'Down', 'Down', 'Right', 'Up', 'Up', 'Left', 'Down', 'Down', 'Right', 'Up', 'Left', 'Down', 'Down', 'Right', 'Up', 'Up', 'Up', 'Left', 'Down', 'Right', 'Down', 'Down', 'Left', 'Up', 'Up', 'Up', 'Right', 'Down', 'Down', 'Down', 'Left', 'Up', 'Right', 'Down', 'Left', 'Up', 'Up', 'Up', 'Right', 'Down', 'Down', 'Down', 'Left', 'Up', 'Up', 'Right', 'Down', 'Down', 'Left', 'Up', 'Up', 'Right', 'Down', 'Down', 'Left', 'Up', 'Up', 'Up', 'Right', 'Down', 'Down', 'Down', 'Left', 'Up', 'Right', 'Down', 'Left', 'Up', 'Right', 'Up', 'Left', 'Down', 'Right', 'Up', 'Up', 'Left', 'Down', 'Down', 'Down', 'Right', 'Up', 'Up', 'Up', 'Left', 'Down', 'Down', 'Down', 'Right', 'Up', 'Left', 'Down', 'Right', 'Up', 'Left', 'Up', 'Right', 'Down', 'Down', 'Left', 'Up', 'Up', 'Right', 'Down', 'Left', 'Up', 'Up', 'Right', 'Down', 'Left', 'Down', 'Down', 'Right', 'Up', 'Up', 'Up', 'Left', 'Down', 'Down', 'Down', 'Right', 'Up', 'Up', 'Up', 'Left', 'Down', 'Down', 'Right', 'Up', 'Up', 'Left', 'Down', 'Down', 'Down', 'Right', 'Up', 'Up', 'Up', 'Left', 'Down', 'Right', 'Down', 'Down', 'Left', 'Up', 'Right', 'Down', 'Left', 'Up', 'Right', 'Up', 'Up', 'Left', 'Down', 'Down', 'Down', 'Right', 'Up', 'Up', 'Left', 'Down', 'Down', 'Right', 'Up', 'Up', 'Up', 'Left', 'Down', 'Down', 'Right', 'Up', 'Up', 'Left', 'Down', 'Right', 'Down', 'Down', 'Left', 'Up', 'Right', 'Down', 'Left', 'Up', 'Up', 'Up', 'Right', 'Down', 'Down', 'Down', 'Left', 'Up', 'Up', 'Up', 'Right', 'Down', 'Down', 'Down', 'Left', 'Up', 'Up', 'Up', 'Right', 'Down', 'Down', 'Left', 'Up', 'Up', 'Right', 'Down', 'Down', 'Down', 'Left', 'Up', 'Up', 'Up', 'Right', 'Down', 'Left', 'Down', 'Down', 'Right', 'Up', 'Left', 'Down', 'Right', 'Up', 'Up', 'Left', 'Down', 'Down', 'Right', 'Up', 'Left', 'Up', 'Up', 'Right', 'Down', 'Left', 'Up', 'Right', 'Down', 'Down', 'Down', 'Left', 'Up', 'Right', 'Down', 'Left', 'Up', 'Up', 'Up', 'Right', 'Down', 'Left', 'Down', 'Down', 'Right', 'Up', 'Up', 'Left', 'Down', 'Right', 'Up', 'Left', 'Down', 'Down', 'Right', 'Up', 'Up', 'Left', 'Down', 'Down', 'Right', 'Up', 'Left', 'Down', 'Right', 'Up', 'Left', 'Up', 'Right', 'Down', 'Down', 'Left', 'Up', 'Up', 'Right', 'Down', 'Left', 'Up', 'Up', 'Right', 'Down', 'Down', 'Down', 'Left', 'Up', 'Up', 'Right', 'Down', 'Left', 'Up', 'Up', 'Right', 'Down', 'Down', 'Left', 'Up', 'Up', 'Right', 'Down', 'Down', 'Down', 'Left', 'Up', 'Right', 'Down', 'Left', 'Up', 'Right', 'Up', 'Up', 'Left', 'Down', 'Down', 'Down', 'Right', 'Up', 'Up', 'Up', 'Left', 'Down', 'Right', 'Down', 'Down', 'Left', 'Up', 'Up', 'Right', 'Down', 'Left', 'Up', 'Up', 'Right', 'Down', 'Left', 'Down', 'Down', 'Right', 'Up', 'Up', 'Up', 'Left', 'Down', 'Down', 'Down', 'Right', 'Up', 'Up', 'Up', 'Left', 'Down', 'Down', 'Down', 'Right', 'Up', 'Up', 'Up', 'Left', 'Down', 'Down', 'Down', 'Right', 'Up', 'Left', 'Down', 'Right', 'Up', 'Up', 'Left', 'Down', 'Right', 'Up', 'Up', 'Left', 'Down', 'Down', 'Down', 'Right', 'Up', 'Up', 'Up', 'Left', 'Down', 'Down', 'Down', 'Right', 'Up', 'Left', 'Down', 'Right', 'Up', 'Up', 'Up', 'Left', 'Down', 'Right', 'Down', 'Left', 'Up', 'Right', 'Down', 'Down', 'Left', 'Up', 'Up', 'Right', 'Down', 'Left', 'Up', 'Right', 'Down', 'Down', 'Left', 'Up', 'Up', 'Right', 'Down', 'Down', 'Left', 'Up', 'Up', 'Up', 'Right', 'Down', 'Down', 'Left', 'Up', 'Up', 'Right', 'Down', 'Left', 'Up', 'Right', 'Down', 'Left', 'Down', 'Down', 'Right', 'Up', 'Up', 'Up', 'Left', 'Down', 'Down', 'Down', 'Right', 'Up', 'Left', 'Down', 'Right', 'Up', 'Up', 'Up', 'Left', 'Down', 'Down', 'Down', 'Right', 'Up', 'Up', 'Up', 'Left', 'Down', 'Right', 'Down', 'Left', 'Up', 'Up', 'Right', 'Down', 'Left', 'Up', 'Right', 'Down', 'Down', 'Left', 'Up', 'Right', 'Down', 'Left', 'Up', 'Up', 'Right', 'Down', 'Down', 'Down', 'Left', 'Up', 'Up', 'Right', 'Down', 'Down', 'Left', 'Up', 'Up', 'Right', 'Down', 'Down', 'Left', 'Up', 'Right', 'Down', 'Left', 'Up', 'Up', 'Up', 'Right', 'Down', 'Left', 'Down', 'Down', 'Right', 'Up', 'Left', 'Down', 'Right', 'Up', 'Up', 'Up', 'Left', 'Down', 'Right', 'Down', 'Down', 'Left', 'Up', 'Up', 'Right', 'Down', 'Down', 'Left', 'Up', 'Right', 'Down', 'Left', 'Up', 'Up', 'Up', 'Right', 'Down', 'Left', 'Up', 'Right', 'Down', 'Left', 'Down', 'Right', 'Up', 'Left', 'Down', 'Down', 'Right', 'Up', 'Up', 'Up', 'Left', 'Down', 'Right', 'Up', 'Left', 'Down', 'Right', 'Down', 'Left', 'Up', 'Up', 'Right', 'Down', 'Left', 'Down', 'Down', 'Right', 'Up', 'Left', 'Down', 'Right', 'Up', 'Up', 'Left', 'Down', 'Down', 'Right', 'Up', 'Left', 'Down', 'Right', 'Up', 'Up', 'Left', 'Down', 'Down', 'Right', 'Up', 'Up', 'Up', 'Left', 'Down', 'Right', 'Down', 'Down', 'Left', 'Up', 'Right', 'Down', 'Left', 'Up', 'Up', 'Up', 'Right', 'Down', 'Down', 'Left', 'Up', 'Up', 'Right', 'Down', 'Down', 'Down', 'Left', 'Up', 'Up', 'Right', 'Down', 'Left', 'Up', 'Right', 'Down', 'Left', 'Up', 'Up']\n",
            "  Nodos visitados = 15621\n",
            "  Costo Solución  = 6180\n",
            "\n",
            "--------------------------------------------------------------------------------\n",
            "Estado final del ambiente del compartimento:\n",
            "--------------------------------------------------\n",
            "\n",
            "                    |  +   A  |\n",
            "\n",
            "                    |  B   C  |\n",
            "\n",
            "                    |  D   F  |\n",
            "\n",
            "                    |  O   Z  |\n",
            "\n"
          ]
        }
      ]
    },
    {
      "cell_type": "code",
      "source": [
        "#Llamado a la funcion con BFS:\n",
        "runProgram(initialstate=\"OBD+FZCA\", goalstate=\"+ABCDFOZ\", numsteps=50, method='bfs')"
      ],
      "metadata": {
        "id": "mspAZnVQ245S",
        "colab": {
          "base_uri": "https://localhost:8080/"
        },
        "outputId": "35599a91-2fe0-493e-867f-ba3072b14946"
      },
      "execution_count": 43,
      "outputs": [
        {
          "output_type": "stream",
          "name": "stdout",
          "text": [
            "--------------------------------------------------\n",
            "Estado inicial del ambiente del compartimento:\n",
            "--------------------------------------------------\n",
            "\n",
            "                    |  O   B  |\n",
            "\n",
            "                    |  D   +  |\n",
            "\n",
            "                    |  F   Z  |\n",
            "\n",
            "                    |  C   A  |\n",
            "\n",
            "--------------------------------------------------------------------------------\n",
            "\n",
            "- El agente buscará una solución al problema del ordenamiento de sellos:\n",
            "  Estado Inicial  = OBD+FZCA\n",
            "  Estado Objetivo = +ABCDFOZ\n",
            "<__main__.CompartmentSearchProblem object at 0x7ddc7d7f0160>\n",
            "OBD+FZCA\n",
            "  Agente planeó una solución al problema del ordenamiento de sellos con bfs:\n",
            "  Secuencia de acciones = ['Down', 'Down', 'Left', 'Up', 'Up', 'Right', 'Down', 'Left', 'Up', 'Up', 'Right', 'Down', 'Down', 'Down', 'Left', 'Up', 'Up', 'Right', 'Down', 'Down', 'Left', 'Up', 'Up', 'Up']\n",
            "  Nodos visitados = 13215\n",
            "  Costo Solución  = 24\n",
            "\n",
            "--------------------------------------------------------------------------------\n",
            "Estado final del ambiente del compartimento:\n",
            "--------------------------------------------------\n",
            "\n",
            "                    |  +   A  |\n",
            "\n",
            "                    |  B   C  |\n",
            "\n",
            "                    |  D   F  |\n",
            "\n",
            "                    |  O   Z  |\n",
            "\n"
          ]
        }
      ]
    },
    {
      "cell_type": "markdown",
      "source": [
        "# Analisis de resultados"
      ],
      "metadata": {
        "id": "IFiomx603Cmf"
      }
    },
    {
      "cell_type": "markdown",
      "source": [
        "**5.** ¿Cuál método encuentra la secuencia de acciones más corta? ¿Por qué? **(2 punto)**"
      ],
      "metadata": {
        "id": "49M6tEmv71sV"
      }
    },
    {
      "cell_type": "markdown",
      "source": [
        "**Rpta:** El método que encuentra la secuencia de acciones más corta es el 'bfs' ya que al ser una búsqueda por amplitud , revisa por niveles encontrando la solución más corta"
      ],
      "metadata": {
        "id": "svKM5A_857hw"
      }
    },
    {
      "cell_type": "markdown",
      "source": [
        "**6.** ¿Algún método garantiza optimalidad (osea, encuentra la solucion con la menor cantidad de acciones posible)? Justifique. **(2 punto)**    "
      ],
      "metadata": {
        "id": "36QAPYUx5huJ"
      }
    },
    {
      "cell_type": "markdown",
      "source": [
        "**Rpta:** El metodo 'bfs' garantiza optimabilidad, ya que encontrara la solución mas corta"
      ],
      "metadata": {
        "id": "9ht2U5GT6ohW"
      }
    },
    {
      "cell_type": "markdown",
      "source": [
        "**7.** Revise la clase **CompartmentSearchProblem**, considerando que para realizar un movimiento es requerido intercambiar dos sellos, se tiene un tablero 2x4, para intercambiar dos sellos es requerido de cierta cantidad de aceite y que, **el costo de camino total es numéricamente igual al precio en centavos de dolar gastados en onzas de aceite**, ¿cuáles son los valores **b** y **d** del árbol de busqueda? **(2 punto)**"
      ],
      "metadata": {
        "id": "obHMGruz5k56"
      }
    },
    {
      "cell_type": "markdown",
      "source": [
        "**Rpta:** Los valores b serian la cantidad de posibles movimientos, de los que parten nuevos nodos hijos, y d seria la profundidad de la solución mas corta. En el caso de 'bfs' si se sabe, en 'dfs' no. Lo más optimo para reducir el costo seria usar un metodo 'bfs'"
      ],
      "metadata": {
        "id": "Ssd1a3Rk6ueo"
      }
    },
    {
      "cell_type": "markdown",
      "source": [
        "**8.** Si se cuenta con memoria muy limitada, ¿cuál sería la opción recomendable a usarse? ¿Por qué? **(1 punto)**"
      ],
      "metadata": {
        "id": "Tlcdt8lF7tAM"
      }
    },
    {
      "cell_type": "markdown",
      "source": [
        "**Rpta:** La opcion más recomendable en este paso sería usar 'dfs' ya que pese la complejidad de bfs revisa todo el \"nivel\" y este proceso crece exponencialmente, llenando de daos la memoria muy rapido. Mientras que usando 'dfs' se va por menores datos y se llena menos la memoria, pero la solucion es más larga"
      ],
      "metadata": {
        "id": "UbjTuLNT74ym"
      }
    },
    {
      "cell_type": "markdown",
      "source": [
        "**9.** Se ha estado trabajando con búsqueda de grafo. ¿cuál sería el valor **m** del árbol de búsqueda si se estuviera usando búsqueda de árbol (sin memoria de estados no visitados) ? **(1 punto)**"
      ],
      "metadata": {
        "id": "s5h5kcxf-DEv"
      }
    },
    {
      "cell_type": "markdown",
      "source": [
        "**Rpta:** Hubiera sido infinito ya que si no existe la memoria de estados visitados, se volveria a un estado ya visitado y se crearía un bucle interminable"
      ],
      "metadata": {
        "id": "u1cQ4NL0_B3N"
      }
    }
  ],
  "metadata": {
    "kernelspec": {
      "display_name": "Python 3 (ipykernel)",
      "language": "python",
      "name": "python3"
    },
    "language_info": {
      "codemirror_mode": {
        "name": "ipython",
        "version": 3
      },
      "file_extension": ".py",
      "mimetype": "text/x-python",
      "name": "python",
      "nbconvert_exporter": "python",
      "pygments_lexer": "ipython3",
      "version": "3.9.7"
    },
    "colab": {
      "provenance": []
    }
  },
  "nbformat": 4,
  "nbformat_minor": 0
}